{
 "cells": [
  {
   "cell_type": "markdown",
   "metadata": {},
   "source": [
    "# Automated ML\n",
    "\n",
    "TODO: Import Dependencies. In the cell below, import all the dependencies that you will need to complete the project."
   ]
  },
  {
   "cell_type": "code",
   "execution_count": 1,
   "metadata": {
    "gather": {
     "logged": 1598423888013
    },
    "jupyter": {
     "outputs_hidden": false,
     "source_hidden": false
    },
    "nteract": {
     "transient": {
      "deleting": false
     }
    }
   },
   "outputs": [
    {
     "name": "stdout",
     "output_type": "stream",
     "text": [
      "SDK version: 1.40.0\n"
     ]
    }
   ],
   "source": [
    "import logging\n",
    "import os\n",
    "import csv\n",
    "\n",
    "from matplotlib import pyplot as plt\n",
    "import numpy as np\n",
    "import pandas as pd\n",
    "from sklearn import datasets\n",
    "import pkg_resources\n",
    "\n",
    "import azureml.core\n",
    "from azureml.core.experiment import Experiment\n",
    "from azureml.core.workspace import Workspace\n",
    "from azureml.train.automl import AutoMLConfig\n",
    "from azureml.core.dataset import Dataset\n",
    "\n",
    "from azureml.pipeline.steps import AutoMLStep\n",
    "\n",
    "# Check core SDK version number\n",
    "print(\"SDK version:\", azureml.core.VERSION)"
   ]
  },
  {
   "cell_type": "markdown",
   "metadata": {},
   "source": [
    "## Dataset\n",
    "\n",
    "### Overview\n",
    "TODO: The dataset \n",
    "\n",
    "TODO: Get data. In the cell below, write code to access the data you will be using in this project. Remember that the dataset needs to be external."
   ]
  },
  {
   "cell_type": "code",
   "execution_count": 2,
   "metadata": {},
   "outputs": [],
   "source": [
    " \n",
    "from azureml.core import Workspace\n",
    "from azureml.core import Dataset\n",
    "from azureml.data.datapath import DataPath\n",
    "\n",
    "ws = Workspace.from_config()\n",
    "datastore = ws.get_default_datastore()\n",
    "\n"
   ]
  },
  {
   "cell_type": "code",
   "execution_count": 3,
   "metadata": {},
   "outputs": [],
   "source": [
    "\n",
    "from azureml.data.dataset_factory import TabularDatasetFactory\n",
    "import pandas as pd\n",
    "\n",
    "url_path = \"https://raw.githubusercontent.com/Vzard/ML-Azure-Capstone/master/StrokeData_V1.csv\"\n",
    " "
   ]
  },
  {
   "cell_type": "code",
   "execution_count": 4,
   "metadata": {},
   "outputs": [],
   "source": [
    "ds = TabularDatasetFactory.from_delimited_files(path=url_path)\n",
    "\n",
    "key = \"strokedata_1b\"\n",
    "description_text = \"stroke\"\n"
   ]
  },
  {
   "cell_type": "code",
   "execution_count": 5,
   "metadata": {},
   "outputs": [],
   "source": [
    "dataset = ds.register(workspace=ws,\n",
    "                                   name=key,\n",
    "                                   description=description_text)"
   ]
  },
  {
   "cell_type": "code",
   "execution_count": null,
   "metadata": {},
   "outputs": [],
   "source": []
  },
  {
   "cell_type": "code",
   "execution_count": 6,
   "metadata": {
    "gather": {
     "logged": 1598423890461
    },
    "jupyter": {
     "outputs_hidden": false,
     "source_hidden": false
    },
    "nteract": {
     "transient": {
      "deleting": false
     }
    }
   },
   "outputs": [],
   "source": [
    " \n",
    "\n",
    "project_folder = './pipeline-project1'\n",
    "\n",
    "# choose a name for experiment\n",
    "experiment_name = \"Predictstroke_2\"\n",
    "\n",
    "experiment=Experiment(ws, experiment_name)"
   ]
  },
  {
   "cell_type": "code",
   "execution_count": 7,
   "metadata": {},
   "outputs": [
    {
     "name": "stdout",
     "output_type": "stream",
     "text": [
      "Found existing cluster, use it.\n"
     ]
    }
   ],
   "source": [
    "from azureml.core.compute import AmlCompute\n",
    "from azureml.core.compute import ComputeTarget\n",
    "from azureml.core.compute_target import ComputeTargetException\n",
    "\n",
    "# NOTE: update the cluster name to match the existing cluster\n",
    "# Choose a name for your CPU cluster\n",
    "amlcompute_cluster_name = \"Capstone\"\n",
    "\n",
    "# Verify that cluster does not exist already\n",
    "try:\n",
    "    compute_target = ComputeTarget(workspace=ws, name=\"ClusterKal\")\n",
    "    print('Found existing cluster, use it.')\n",
    "except ComputeTargetException:\n",
    "    compute_config = AmlCompute.provisioning_configuration(vm_size='STANDARD_D2_V2',# for GPU, use \"STANDARD_NC6\"\n",
    "                                                           #vm_priority = 'lowpriority', # optional\n",
    "                                                           max_nodes=4)\n",
    "    compute_target = ComputeTarget.create(ws, amlcompute_cluster_name, compute_config)\n"
   ]
  },
  {
   "cell_type": "code",
   "execution_count": null,
   "metadata": {},
   "outputs": [],
   "source": []
  },
  {
   "cell_type": "markdown",
   "metadata": {},
   "source": [
    "## AutoML Configuration\n",
    "\n",
    "TODO: Explain why you chose the automl settings and cofiguration you used below."
   ]
  },
  {
   "cell_type": "code",
   "execution_count": 8,
   "metadata": {
    "gather": {
     "logged": 1598429217746
    },
    "jupyter": {
     "outputs_hidden": false,
     "source_hidden": false
    },
    "nteract": {
     "transient": {
      "deleting": false
     }
    }
   },
   "outputs": [],
   "source": [
    "# TODO: Put your automl settings here\n",
    "automl_settings = {\n",
    "    \"experiment_timeout_minutes\": 20,\n",
    "    \"max_concurrent_iterations\": 4,\n",
    "    \"primary_metric\" : 'AUC_weighted',\n",
    "    \"n_cross_validations\": 10\n",
    "}\n",
    " \n",
    "automl_config = AutoMLConfig(compute_target=compute_target,\n",
    "                             task = \"classification\",\n",
    "                             training_data=dataset,\n",
    "                             label_column_name=\"stroke\",  \n",
    "                             enable_early_stopping= True,\n",
    "                             test_size =0.2,\n",
    "                             featurization= 'auto',\n",
    "                             debug_log = \"automl_errors.log\",\n",
    "                             **automl_settings\n",
    "                            )\n"
   ]
  },
  {
   "cell_type": "code",
   "execution_count": 9,
   "metadata": {
    "gather": {
     "logged": 1598431107951
    },
    "jupyter": {
     "outputs_hidden": false,
     "source_hidden": false
    },
    "nteract": {
     "transient": {
      "deleting": false
     }
    }
   },
   "outputs": [
    {
     "name": "stdout",
     "output_type": "stream",
     "text": [
      "Submitting remote run.\n",
      "No run_configuration provided, running on ClusterKal with default configuration\n",
      "Running on remote compute: ClusterKal\n"
     ]
    },
    {
     "data": {
      "text/html": [
       "<table style=\"width:100%\"><tr><th>Experiment</th><th>Id</th><th>Type</th><th>Status</th><th>Details Page</th><th>Docs Page</th></tr><tr><td>Predictstroke_1</td><td>AutoML_f5ce51e2-e0f7-44a3-a639-235da7762a96</td><td>automl</td><td>NotStarted</td><td><a href=\"https://ml.azure.com/runs/AutoML_f5ce51e2-e0f7-44a3-a639-235da7762a96?wsid=/subscriptions/16bc73b5-82be-47f2-b5ab-f2373344794c/resourcegroups/kalakkad-ddl/workspaces/epe-venkat-aiml&amp;tid=db05faca-c82a-4b9d-b9c5-0f64b6755421\" target=\"_blank\" rel=\"noopener\">Link to Azure Machine Learning studio</a></td><td><a href=\"https://docs.microsoft.com/en-us/python/api/overview/azure/ml/intro?view=azure-ml-py\" target=\"_blank\" rel=\"noopener\">Link to Documentation</a></td></tr></table>"
      ],
      "text/plain": [
       "<IPython.core.display.HTML object>"
      ]
     },
     "metadata": {},
     "output_type": "display_data"
    },
    {
     "name": "stdout",
     "output_type": "stream",
     "text": [
      "\n",
      "Current status: FeaturesGeneration. Generating features for the dataset.\n",
      "Current status: DatasetBalancing. Performing class balancing sweeping\n",
      "Current status: DatasetCrossValidationSplit. Generating individually featurized CV splits.\n",
      "Current status: ModelSelection. Beginning model selection.\n",
      "\n",
      "********************************************************************************************\n",
      "DATA GUARDRAILS: \n",
      "\n",
      "TYPE:         Class balancing detection\n",
      "STATUS:       ALERTED\n",
      "DESCRIPTION:  To decrease model bias, please cancel the current run and fix balancing problem.\n",
      "              Learn more about imbalanced data: https://aka.ms/AutomatedMLImbalancedData\n",
      "DETAILS:      Imbalanced data can lead to a falsely perceived positive effect of a model's accuracy because the input data has bias towards one class.\n",
      "+------------------------------+--------------------------------+--------------------------------------+\n",
      "|Size of the smallest class    |Name/Label of the smallest class|Number of samples in the training data|\n",
      "+==============================+================================+======================================+\n",
      "|199                           |1                               |4088                                  |\n",
      "+------------------------------+--------------------------------+--------------------------------------+\n",
      "\n",
      "********************************************************************************************\n",
      "\n",
      "TYPE:         Missing feature values imputation\n",
      "STATUS:       PASSED\n",
      "DESCRIPTION:  No feature missing values were detected in the training data.\n",
      "              Learn more about missing value imputation: https://aka.ms/AutomatedMLFeaturization\n",
      "\n",
      "********************************************************************************************\n",
      "\n",
      "TYPE:         High cardinality feature detection\n",
      "STATUS:       PASSED\n",
      "DESCRIPTION:  Your inputs were analyzed, and no high cardinality features were detected.\n",
      "              Learn more about high cardinality feature handling: https://aka.ms/AutomatedMLFeaturization\n",
      "\n",
      "********************************************************************************************\n",
      "\n",
      "********************************************************************************************\n",
      "ITER: The iteration being evaluated.\n",
      "PIPELINE: A summary description of the pipeline being evaluated.\n",
      "DURATION: Time taken for the current iteration.\n",
      "METRIC: The result of computing score on the fitted pipeline.\n",
      "BEST: The best observed score thus far.\n",
      "********************************************************************************************\n",
      "\n",
      " ITER   PIPELINE                                       DURATION            METRIC      BEST\n",
      "    0   MaxAbsScaler LightGBM                          0:00:15             0.8200    0.8200\n",
      "    1   MaxAbsScaler XGBoostClassifier                 0:00:17             0.8044    0.8200\n",
      "    2   MaxAbsScaler ExtremeRandomTrees                0:00:14             0.8429    0.8429\n",
      "    3   MaxAbsScaler RandomForest                      0:00:14             0.6804    0.8429\n",
      "    4   StandardScalerWrapper LightGBM                 0:00:14             0.8345    0.8429\n",
      "    5   SparseNormalizer XGBoostClassifier             0:00:14             0.8126    0.8429\n",
      "    6   SparseNormalizer RandomForest                  0:00:17             0.8026    0.8429\n",
      "    7   StandardScalerWrapper XGBoostClassifier        0:00:14             0.7984    0.8429\n",
      "    8   SparseNormalizer XGBoostClassifier             0:00:15             0.8165    0.8429\n",
      "    9   MaxAbsScaler RandomForest                      0:00:14             0.7697    0.8429\n",
      "   10   SparseNormalizer LightGBM                      0:00:14             0.8216    0.8429\n",
      "   11   MaxAbsScaler ExtremeRandomTrees                0:00:22             0.8004    0.8429\n",
      "   15   MaxAbsScaler LightGBM                          0:00:15             0.8493    0.8493\n",
      "   12   StandardScalerWrapper XGBoostClassifier        0:00:15             0.8452    0.8493\n",
      "   16   MaxAbsScaler LogisticRegression                0:00:16             0.7198    0.8493\n",
      "   13   StandardScalerWrapper ExtremeRandomTrees       0:00:14             0.8068    0.8493\n",
      "   17   StandardScalerWrapper ExtremeRandomTrees       0:00:32             0.8500    0.8500\n",
      "   14   StandardScalerWrapper RandomForest             0:00:24             0.7887    0.8500\n",
      "   18   StandardScalerWrapper XGBoostClassifier        0:00:15             0.8367    0.8500\n",
      "   19   MaxAbsScaler ExtremeRandomTrees                0:00:17             0.8225    0.8500\n",
      "   21   StandardScalerWrapper XGBoostClassifier        0:00:28             0.8354    0.8500\n",
      "   22   StandardScalerWrapper XGBoostClassifier        0:00:30             0.8227    0.8500\n",
      "   23   MaxAbsScaler RandomForest                      0:00:30             0.8093    0.8500\n",
      "   24   SparseNormalizer XGBoostClassifier             0:00:28             0.8346    0.8500\n",
      "   25   StandardScalerWrapper ExtremeRandomTrees       0:00:34             0.5000    0.8500\n",
      "   27   SparseNormalizer XGBoostClassifier             0:00:28             0.8342    0.8500\n",
      "   20   MaxAbsScaler LogisticRegression                0:01:45             0.7148    0.8500\n",
      "   26   SparseNormalizer XGBoostClassifier             0:00:41             0.8394    0.8500\n",
      "   28   MaxAbsScaler LightGBM                          0:00:28             0.8502    0.8502\n",
      "   29   StandardScalerWrapper LightGBM                 0:00:27             0.8487    0.8502\n",
      "   30   TruncatedSVDWrapper ExtremeRandomTrees         0:00:30             0.7464    0.8502\n",
      "   31   SparseNormalizer LightGBM                      0:00:32             0.8189    0.8502\n",
      "   33   StandardScalerWrapper XGBoostClassifier        0:00:27             0.8443    0.8502\n",
      "   32   StandardScalerWrapper XGBoostClassifier        0:00:44             0.7860    0.8502\n",
      "   34   StandardScalerWrapper LightGBM                 0:00:28             0.8515    0.8515\n",
      "   35   MaxAbsScaler LightGBM                          0:00:32             0.8329    0.8515\n",
      "   36   SparseNormalizer XGBoostClassifier             0:00:38             0.8237    0.8515\n",
      "   37   StandardScalerWrapper LightGBM                 0:00:30             0.8439    0.8515\n",
      "   38   StandardScalerWrapper LightGBM                 0:00:28             0.8407    0.8515\n",
      "   39   MaxAbsScaler LightGBM                          0:00:30             0.8501    0.8515\n",
      "   40   StandardScalerWrapper LightGBM                 0:00:28             0.8470    0.8515\n",
      "   41   MaxAbsScaler LightGBM                          0:00:28             0.8501    0.8515\n",
      "   42   StandardScalerWrapper LightGBM                 0:00:27             0.8459    0.8515\n",
      "   43   StandardScalerWrapper LightGBM                 0:00:41             0.8381    0.8515\n",
      "   44   StandardScalerWrapper LightGBM                 0:00:28             0.8328    0.8515\n",
      "   45   StandardScalerWrapper LightGBM                 0:00:27             0.8378    0.8515\n",
      "   46   SparseNormalizer LightGBM                      0:00:27             0.8302    0.8515\n",
      "   47   StandardScalerWrapper LightGBM                 0:00:13                nan    0.8515\n",
      "   48                                                  0:00:01                nan    0.8515\n",
      "   49                                                  0:00:00                nan    0.8515\n",
      "   51    StackEnsemble                                 0:01:33             0.8539    0.8539\n",
      "   50    VotingEnsemble                                0:02:17             0.8583    0.8583\n"
     ]
    }
   ],
   "source": [
    "# TODO: Submit your experiment\n",
    "remote_run = experiment.submit(automl_config,show_output=True)"
   ]
  },
  {
   "cell_type": "markdown",
   "metadata": {},
   "source": [
    "## Run Details\n",
    "\n",
    "OPTIONAL: Write about the different models trained and their performance. Why do you think some models did better than others?\n",
    "\n",
    "TODO: In the cell below, use the `RunDetails` widget to show the different experiments."
   ]
  },
  {
   "cell_type": "code",
   "execution_count": 10,
   "metadata": {
    "gather": {
     "logged": 1598431121770
    },
    "jupyter": {
     "outputs_hidden": false,
     "source_hidden": false
    },
    "nteract": {
     "transient": {
      "deleting": false
     }
    }
   },
   "outputs": [
    {
     "data": {
      "application/vnd.jupyter.widget-view+json": {
       "model_id": "6c67ea2df20a4bfd97151b1b9875e8f5",
       "version_major": 2,
       "version_minor": 0
      },
      "text/plain": [
       "_AutoMLWidget(widget_settings={'childWidgetDisplay': 'popup', 'send_telemetry': False, 'log_level': 'INFO', 's…"
      ]
     },
     "metadata": {},
     "output_type": "display_data"
    },
    {
     "data": {
      "application/aml.mini.widget.v1": "{\"status\": \"Completed\", \"workbench_run_details_uri\": \"https://ml.azure.com/runs/AutoML_f5ce51e2-e0f7-44a3-a639-235da7762a96?wsid=/subscriptions/16bc73b5-82be-47f2-b5ab-f2373344794c/resourcegroups/kalakkad-ddl/workspaces/epe-venkat-aiml&tid=db05faca-c82a-4b9d-b9c5-0f64b6755421\", \"run_id\": \"AutoML_f5ce51e2-e0f7-44a3-a639-235da7762a96\", \"run_properties\": {\"run_id\": \"AutoML_f5ce51e2-e0f7-44a3-a639-235da7762a96\", \"created_utc\": \"2022-08-16T21:53:09.555254Z\", \"properties\": {\"num_iterations\": \"1000\", \"training_type\": \"TrainFull\", \"acquisition_function\": \"EI\", \"primary_metric\": \"AUC_weighted\", \"train_split\": \"0\", \"acquisition_parameter\": \"0\", \"num_cross_validation\": \"10\", \"target\": \"ClusterKal\", \"AMLSettingsJsonString\": \"{\\\"path\\\":null,\\\"name\\\":\\\"Predictstroke_1\\\",\\\"subscription_id\\\":\\\"16bc73b5-82be-47f2-b5ab-f2373344794c\\\",\\\"resource_group\\\":\\\"kalakkad-ddl\\\",\\\"workspace_name\\\":\\\"epe-venkat-aiml\\\",\\\"region\\\":\\\"centralus\\\",\\\"compute_target\\\":\\\"ClusterKal\\\",\\\"spark_service\\\":null,\\\"azure_service\\\":\\\"remote\\\",\\\"many_models\\\":false,\\\"pipeline_fetch_max_batch_size\\\":1,\\\"enable_batch_run\\\":true,\\\"enable_run_restructure\\\":false,\\\"start_auxiliary_runs_before_parent_complete\\\":true,\\\"enable_code_generation\\\":false,\\\"iterations\\\":1000,\\\"primary_metric\\\":\\\"AUC_weighted\\\",\\\"task_type\\\":\\\"classification\\\",\\\"positive_label\\\":null,\\\"data_script\\\":null,\\\"test_size\\\":0.2,\\\"test_include_predictions_only\\\":false,\\\"validation_size\\\":0.0,\\\"n_cross_validations\\\":10,\\\"y_min\\\":null,\\\"y_max\\\":null,\\\"num_classes\\\":null,\\\"featurization\\\":\\\"auto\\\",\\\"_ignore_package_version_incompatibilities\\\":false,\\\"is_timeseries\\\":false,\\\"max_cores_per_iteration\\\":1,\\\"max_concurrent_iterations\\\":4,\\\"iteration_timeout_minutes\\\":null,\\\"mem_in_mb\\\":null,\\\"enforce_time_on_windows\\\":false,\\\"experiment_timeout_minutes\\\":20,\\\"experiment_exit_score\\\":null,\\\"partition_column_names\\\":null,\\\"whitelist_models\\\":null,\\\"blacklist_algos\\\":[\\\"TensorFlowLinearClassifier\\\",\\\"TensorFlowDNN\\\"],\\\"supported_models\\\":[\\\"ExtremeRandomTrees\\\",\\\"RandomForest\\\",\\\"LightGBM\\\",\\\"LogisticRegression\\\",\\\"SGD\\\",\\\"XGBoostClassifier\\\",\\\"TabnetClassifier\\\",\\\"SVM\\\",\\\"KNN\\\",\\\"GradientBoosting\\\",\\\"AveragedPerceptronClassifier\\\",\\\"LinearSVM\\\",\\\"DecisionTree\\\",\\\"MultinomialNaiveBayes\\\",\\\"TensorFlowDNN\\\",\\\"BernoulliNaiveBayes\\\",\\\"TensorFlowLinearClassifier\\\"],\\\"private_models\\\":[],\\\"auto_blacklist\\\":true,\\\"blacklist_samples_reached\\\":false,\\\"exclude_nan_labels\\\":true,\\\"verbosity\\\":20,\\\"_debug_log\\\":\\\"azureml_automl.log\\\",\\\"show_warnings\\\":false,\\\"model_explainability\\\":true,\\\"service_url\\\":null,\\\"sdk_url\\\":null,\\\"sdk_packages\\\":null,\\\"enable_onnx_compatible_models\\\":false,\\\"enable_split_onnx_featurizer_estimator_models\\\":false,\\\"vm_type\\\":\\\"STANDARD_D2_V2\\\",\\\"telemetry_verbosity\\\":20,\\\"send_telemetry\\\":true,\\\"enable_dnn\\\":false,\\\"scenario\\\":\\\"SDK-1.13.0\\\",\\\"environment_label\\\":null,\\\"save_mlflow\\\":false,\\\"enable_categorical_indicators\\\":false,\\\"force_text_dnn\\\":false,\\\"enable_feature_sweeping\\\":true,\\\"enable_early_stopping\\\":true,\\\"early_stopping_n_iters\\\":10,\\\"arguments\\\":null,\\\"dataset_id\\\":\\\"e2abec6f-c3d5-43e4-a197-204c27d2f8f8\\\",\\\"hyperdrive_config\\\":null,\\\"validation_dataset_id\\\":null,\\\"run_source\\\":null,\\\"metrics\\\":null,\\\"enable_metric_confidence\\\":false,\\\"enable_ensembling\\\":true,\\\"enable_stack_ensembling\\\":true,\\\"ensemble_iterations\\\":15,\\\"enable_tf\\\":false,\\\"enable_subsampling\\\":null,\\\"subsample_seed\\\":null,\\\"enable_nimbusml\\\":false,\\\"enable_streaming\\\":false,\\\"force_streaming\\\":false,\\\"track_child_runs\\\":true,\\\"allowed_private_models\\\":[],\\\"label_column_name\\\":\\\"stroke\\\",\\\"weight_column_name\\\":null,\\\"cv_split_column_names\\\":null,\\\"enable_local_managed\\\":false,\\\"_local_managed_run_id\\\":null,\\\"cost_mode\\\":1,\\\"lag_length\\\":0,\\\"metric_operation\\\":\\\"maximize\\\",\\\"preprocess\\\":true}\", \"DataPrepJsonString\": \"{\\\\\\\"training_data\\\\\\\": {\\\\\\\"datasetId\\\\\\\": \\\\\\\"e2abec6f-c3d5-43e4-a197-204c27d2f8f8\\\\\\\"}, \\\\\\\"datasets\\\\\\\": 0}\", \"EnableSubsampling\": null, \"runTemplate\": \"AutoML\", \"azureml.runsource\": \"automl\", \"display_task_type\": \"classification\", \"dependencies_versions\": \"{\\\"azureml-widgets\\\": \\\"1.40.0\\\", \\\"azureml-training-tabular\\\": \\\"1.40.0\\\", \\\"azureml-train\\\": \\\"1.40.0\\\", \\\"azureml-train-restclients-hyperdrive\\\": \\\"1.40.0\\\", \\\"azureml-train-core\\\": \\\"1.40.0\\\", \\\"azureml-train-automl\\\": \\\"1.40.0\\\", \\\"azureml-train-automl-runtime\\\": \\\"1.40.0.post1\\\", \\\"azureml-train-automl-client\\\": \\\"1.40.0\\\", \\\"azureml-tensorboard\\\": \\\"1.40.0\\\", \\\"azureml-telemetry\\\": \\\"1.40.0\\\", \\\"azureml-sdk\\\": \\\"1.40.0\\\", \\\"azureml-samples\\\": \\\"0+unknown\\\", \\\"azureml-responsibleai\\\": \\\"1.40.0\\\", \\\"azureml-pipeline\\\": \\\"1.40.0\\\", \\\"azureml-pipeline-steps\\\": \\\"1.40.0\\\", \\\"azureml-pipeline-core\\\": \\\"1.40.0\\\", \\\"azureml-opendatasets\\\": \\\"1.40.0\\\", \\\"azureml-mlflow\\\": \\\"1.40.0\\\", \\\"azureml-interpret\\\": \\\"1.40.0\\\", \\\"azureml-inference-server-http\\\": \\\"0.4.11\\\", \\\"azureml-explain-model\\\": \\\"1.40.0\\\", \\\"azureml-defaults\\\": \\\"1.40.0\\\", \\\"azureml-dataset-runtime\\\": \\\"1.40.0\\\", \\\"azureml-dataprep\\\": \\\"3.0.0\\\", \\\"azureml-dataprep-rslex\\\": \\\"2.4.0\\\", \\\"azureml-dataprep-native\\\": \\\"38.0.0\\\", \\\"azureml-datadrift\\\": \\\"1.40.0\\\", \\\"azureml-core\\\": \\\"1.40.0\\\", \\\"azureml-contrib-services\\\": \\\"1.40.0\\\", \\\"azureml-contrib-server\\\": \\\"1.40.0\\\", \\\"azureml-contrib-reinforcementlearning\\\": \\\"1.40.0\\\", \\\"azureml-contrib-pipeline-steps\\\": \\\"1.40.0\\\", \\\"azureml-contrib-notebook\\\": \\\"1.40.0\\\", \\\"azureml-contrib-fairness\\\": \\\"1.40.0\\\", \\\"azureml-contrib-dataset\\\": \\\"1.40.0\\\", \\\"azureml-contrib-automl-pipeline-steps\\\": \\\"1.40.0\\\", \\\"azureml-cli-common\\\": \\\"1.40.0\\\", \\\"azureml-automl-runtime\\\": \\\"1.40.0\\\", \\\"azureml-automl-dnn-nlp\\\": \\\"1.40.0\\\", \\\"azureml-automl-core\\\": \\\"1.40.0\\\", \\\"azureml-accel-models\\\": \\\"1.40.0\\\"}\", \"_aml_system_scenario_identification\": \"Remote.Parent\", \"ClientType\": \"SDK\", \"environment_cpu_name\": \"AzureML-AutoML\", \"environment_cpu_label\": \"prod\", \"environment_gpu_name\": \"AzureML-AutoML-GPU\", \"environment_gpu_label\": \"prod\", \"root_attribution\": \"automl\", \"attribution\": \"AutoML\", \"Orchestrator\": \"AutoML\", \"CancelUri\": \"https://centralus.api.azureml.ms/jasmine/v1.0/subscriptions/16bc73b5-82be-47f2-b5ab-f2373344794c/resourceGroups/kalakkad-ddl/providers/Microsoft.MachineLearningServices/workspaces/epe-venkat-aiml/experimentids/cf9cc461-686b-41ff-8f1c-be66ba880774/cancel/AutoML_f5ce51e2-e0f7-44a3-a639-235da7762a96\", \"ClientSdkVersion\": \"1.44.0\", \"snapshotId\": \"00000000-0000-0000-0000-000000000000\", \"SetupRunId\": \"AutoML_f5ce51e2-e0f7-44a3-a639-235da7762a96_setup\", \"SetupRunContainerId\": \"dcid.AutoML_f5ce51e2-e0f7-44a3-a639-235da7762a96_setup\", \"FeaturizationRunJsonPath\": \"featurizer_container.json\", \"FeaturizationRunId\": \"AutoML_f5ce51e2-e0f7-44a3-a639-235da7762a96_featurize\", \"ProblemInfoJsonString\": \"{\\\"dataset_num_categorical\\\": 0, \\\"is_sparse\\\": true, \\\"subsampling\\\": false, \\\"has_extra_col\\\": true, \\\"dataset_classes\\\": 2, \\\"dataset_features\\\": 274, \\\"dataset_samples\\\": 4088, \\\"single_frequency_class_detected\\\": false}\", \"ModelExplainRunId\": \"AutoML_f5ce51e2-e0f7-44a3-a639-235da7762a96_ModelExplain\"}, \"tags\": {\"model_explain_run\": \"best_run\", \"_aml_system_automl_run_workspace_id\": \"b9b60e39-4bdc-4099-a2be-f851931fdeb9\", \"_aml_system_azureml.automlComponent\": \"AutoML\", \"pipeline_id\": \"\", \"score\": \"\", \"predicted_cost\": \"\", \"fit_time\": \"\", \"training_percent\": \"\", \"iteration\": \"\", \"run_preprocessor\": \"\", \"run_algorithm\": \"\", \"dynamic_allowlisting_iterations\": \"<25>;<30>;<35>;<40>;<45>;\", \"_aml_system_azureml.automl_early_exit_message\": \"No scores improved over last 10 iterations, so experiment stopped early. This early stopping behavior can be disabled by setting enable_early_stopping = False in AutoMLConfig for notebook/python SDK runs.\", \"automl_best_child_run_id\": \"AutoML_f5ce51e2-e0f7-44a3-a639-235da7762a96_50\", \"model_explain_best_run_child_id\": \"AutoML_f5ce51e2-e0f7-44a3-a639-235da7762a96_50\"}, \"end_time_utc\": \"2022-08-16T22:16:28.449998Z\", \"status\": \"Completed\", \"log_files\": {}, \"log_groups\": [], \"run_duration\": \"0:23:18\", \"run_number\": \"1660686789\", \"run_queued_details\": {\"status\": \"Completed\", \"details\": null}}, \"child_runs\": [{\"run_id\": \"AutoML_f5ce51e2-e0f7-44a3-a639-235da7762a96_setup\", \"run_number\": 1660686802, \"metric\": null, \"status\": \"Completed\", \"run_type\": \"azureml.scriptrun\", \"training_percent\": null, \"start_time\": \"2022-08-16T21:56:39.321008Z\", \"end_time\": \"2022-08-16T22:02:09.73463Z\", \"created_time\": \"2022-08-16T21:53:22.193805Z\", \"created_time_dt\": \"2022-08-16T21:53:22.193805Z\", \"duration\": \"0:08:47\", \"iteration\": null, \"goal\": null, \"run_name\": \"Completed\", \"run_properties\": null}, {\"run_id\": \"AutoML_f5ce51e2-e0f7-44a3-a639-235da7762a96_featurize\", \"run_number\": 1660687329, \"metric\": null, \"status\": \"Completed\", \"run_type\": \"automl.featurization\", \"training_percent\": null, \"start_time\": \"2022-08-16T22:02:10.209008Z\", \"end_time\": \"2022-08-16T22:04:10.222362Z\", \"created_time\": \"2022-08-16T22:02:09.979646Z\", \"created_time_dt\": \"2022-08-16T22:02:09.979646Z\", \"duration\": \"0:02:00\", \"iteration\": null, \"goal\": null, \"run_name\": \"Completed\", \"run_properties\": null}, {\"run_id\": \"AutoML_f5ce51e2-e0f7-44a3-a639-235da7762a96_0\", \"run_number\": 1660687451, \"metric\": null, \"status\": \"Completed\", \"run_type\": null, \"training_percent\": \"100\", \"start_time\": \"2022-08-16T22:04:27.562565Z\", \"end_time\": \"2022-08-16T22:04:42.146844Z\", \"created_time\": \"2022-08-16T22:04:11.369901Z\", \"created_time_dt\": \"2022-08-16T22:04:11.369901Z\", \"duration\": \"0:00:30\", \"iteration\": \"0\", \"goal\": \"AUC_weighted_max\", \"run_name\": \"MaxAbsScaler, LightGBM\", \"run_properties\": \"copy=True\", \"primary_metric\": 0.81996393, \"best_metric\": 0.81996393}, {\"run_id\": \"AutoML_f5ce51e2-e0f7-44a3-a639-235da7762a96_worker_0\", \"run_number\": 1660687452, \"metric\": null, \"status\": \"Completed\", \"run_type\": \"azureml.scriptrun\", \"training_percent\": null, \"start_time\": \"2022-08-16T22:04:17.874676Z\", \"end_time\": \"2022-08-16T22:05:46.615897Z\", \"created_time\": \"2022-08-16T22:04:12.810834Z\", \"created_time_dt\": \"2022-08-16T22:04:12.810834Z\", \"duration\": \"0:01:33\", \"iteration\": null, \"goal\": null, \"run_name\": \"Completed\", \"run_properties\": null}, {\"run_id\": \"AutoML_f5ce51e2-e0f7-44a3-a639-235da7762a96_6\", \"run_number\": 1660687453, \"metric\": null, \"status\": \"Completed\", \"run_type\": null, \"training_percent\": \"100\", \"start_time\": \"2022-08-16T22:06:19.831997Z\", \"end_time\": \"2022-08-16T22:06:36.899794Z\", \"created_time\": \"2022-08-16T22:04:13.300027Z\", \"created_time_dt\": \"2022-08-16T22:04:13.300027Z\", \"duration\": \"0:02:23\", \"iteration\": \"6\", \"goal\": \"AUC_weighted_max\", \"run_name\": \"SparseNormalizer, RandomForest\", \"run_properties\": \"copy=True, norm='l2'\", \"primary_metric\": 0.80258955, \"best_metric\": 0.81996393}, {\"run_id\": \"AutoML_f5ce51e2-e0f7-44a3-a639-235da7762a96_worker_1\", \"run_number\": 1660687454, \"metric\": null, \"status\": \"Completed\", \"run_type\": \"azureml.scriptrun\", \"training_percent\": null, \"start_time\": \"2022-08-16T22:05:55.165697Z\", \"end_time\": \"2022-08-16T22:07:26.65689Z\", \"created_time\": \"2022-08-16T22:04:14.590521Z\", \"created_time_dt\": \"2022-08-16T22:04:14.590521Z\", \"duration\": \"0:03:12\", \"iteration\": null, \"goal\": null, \"run_name\": \"Completed\", \"run_properties\": null}, {\"run_id\": \"AutoML_f5ce51e2-e0f7-44a3-a639-235da7762a96_11\", \"run_number\": 1660687455, \"metric\": null, \"status\": \"Completed\", \"run_type\": null, \"training_percent\": \"100\", \"start_time\": \"2022-08-16T22:07:52.76204Z\", \"end_time\": \"2022-08-16T22:08:14.440786Z\", \"created_time\": \"2022-08-16T22:04:15.08903Z\", \"created_time_dt\": \"2022-08-16T22:04:15.08903Z\", \"duration\": \"0:03:59\", \"iteration\": \"11\", \"goal\": \"AUC_weighted_max\", \"run_name\": \"MaxAbsScaler, ExtremeRandomTrees\", \"run_properties\": \"copy=True\", \"primary_metric\": 0.80041421, \"best_metric\": 0.81996393}, {\"run_id\": \"AutoML_f5ce51e2-e0f7-44a3-a639-235da7762a96_worker_2\", \"run_number\": 1660687456, \"metric\": null, \"status\": \"Completed\", \"run_type\": \"azureml.scriptrun\", \"training_percent\": null, \"start_time\": \"2022-08-16T22:06:13.854766Z\", \"end_time\": \"2022-08-16T22:09:14.185492Z\", \"created_time\": \"2022-08-16T22:04:16.300672Z\", \"created_time_dt\": \"2022-08-16T22:04:16.300672Z\", \"duration\": \"0:04:57\", \"iteration\": null, \"goal\": null, \"run_name\": \"Completed\", \"run_properties\": null}, {\"run_id\": \"AutoML_f5ce51e2-e0f7-44a3-a639-235da7762a96_17\", \"run_number\": 1660687457, \"metric\": null, \"status\": \"Completed\", \"run_type\": null, \"training_percent\": \"100\", \"start_time\": \"2022-08-16T22:08:21.089875Z\", \"end_time\": \"2022-08-16T22:08:53.069407Z\", \"created_time\": \"2022-08-16T22:04:17.245645Z\", \"created_time_dt\": \"2022-08-16T22:04:17.245645Z\", \"duration\": \"0:04:35\", \"iteration\": \"17\", \"goal\": \"AUC_weighted_max\", \"run_name\": \"StandardScalerWrapper, ExtremeRandomTrees\", \"run_properties\": \"copy=True, with_mean=False, with_std=True\", \"primary_metric\": 0.8500292, \"best_metric\": 0.8500292}, {\"run_id\": \"AutoML_f5ce51e2-e0f7-44a3-a639-235da7762a96_worker_3\", \"run_number\": 1660687458, \"metric\": null, \"status\": \"Completed\", \"run_type\": \"azureml.scriptrun\", \"training_percent\": null, \"start_time\": \"2022-08-16T22:06:15.222725Z\", \"end_time\": \"2022-08-16T22:09:31.228464Z\", \"created_time\": \"2022-08-16T22:04:18.08592Z\", \"created_time_dt\": \"2022-08-16T22:04:18.08592Z\", \"duration\": \"0:05:13\", \"iteration\": null, \"goal\": null, \"run_name\": \"Completed\", \"run_properties\": null}, {\"run_id\": \"AutoML_f5ce51e2-e0f7-44a3-a639-235da7762a96_21\", \"run_number\": 1660687735, \"metric\": null, \"status\": \"Completed\", \"run_type\": \"azureml.scriptrun\", \"training_percent\": \"100\", \"start_time\": \"2022-08-16T22:09:05.244656Z\", \"end_time\": \"2022-08-16T22:09:33.180385Z\", \"created_time\": \"2022-08-16T22:08:55.348194Z\", \"created_time_dt\": \"2022-08-16T22:08:55.348194Z\", \"duration\": \"0:00:37\", \"iteration\": \"21\", \"goal\": \"AUC_weighted_max\", \"run_name\": \"StandardScalerWrapper, XGBoostClassifier\", \"run_properties\": \"copy=True, with_mean=False, with_std=False\", \"primary_metric\": 0.8354424, \"best_metric\": 0.8500292}, {\"run_id\": \"AutoML_f5ce51e2-e0f7-44a3-a639-235da7762a96_22\", \"run_number\": 1660687767, \"metric\": null, \"status\": \"Completed\", \"run_type\": \"azureml.scriptrun\", \"training_percent\": \"100\", \"start_time\": \"2022-08-16T22:09:33.0512Z\", \"end_time\": \"2022-08-16T22:10:03.220593Z\", \"created_time\": \"2022-08-16T22:09:27.606152Z\", \"created_time_dt\": \"2022-08-16T22:09:27.606152Z\", \"duration\": \"0:00:35\", \"iteration\": \"22\", \"goal\": \"AUC_weighted_max\", \"run_name\": \"StandardScalerWrapper, XGBoostClassifier\", \"run_properties\": \"copy=True, with_mean=False, with_std=False\", \"primary_metric\": 0.82270355, \"best_metric\": 0.8500292}, {\"run_id\": \"AutoML_f5ce51e2-e0f7-44a3-a639-235da7762a96_23\", \"run_number\": 1660687775, \"metric\": null, \"status\": \"Completed\", \"run_type\": \"azureml.scriptrun\", \"training_percent\": \"100\", \"start_time\": \"2022-08-16T22:09:39.153331Z\", \"end_time\": \"2022-08-16T22:10:08.771623Z\", \"created_time\": \"2022-08-16T22:09:35.279549Z\", \"created_time_dt\": \"2022-08-16T22:09:35.279549Z\", \"duration\": \"0:00:33\", \"iteration\": \"23\", \"goal\": \"AUC_weighted_max\", \"run_name\": \"MaxAbsScaler, RandomForest\", \"run_properties\": \"copy=True\", \"primary_metric\": 0.80927561, \"best_metric\": 0.8500292}, {\"run_id\": \"AutoML_f5ce51e2-e0f7-44a3-a639-235da7762a96_25\", \"run_number\": 1660687805, \"metric\": null, \"status\": \"Completed\", \"run_type\": \"azureml.scriptrun\", \"training_percent\": \"100\", \"start_time\": \"2022-08-16T22:10:10.383768Z\", \"end_time\": \"2022-08-16T22:10:44.421828Z\", \"created_time\": \"2022-08-16T22:10:05.428282Z\", \"created_time_dt\": \"2022-08-16T22:10:05.428282Z\", \"duration\": \"0:00:38\", \"iteration\": \"25\", \"goal\": \"AUC_weighted_max\", \"run_name\": \"StandardScalerWrapper, ExtremeRandomTrees\", \"run_properties\": \"copy=True, with_mean=False, with_std=True\", \"primary_metric\": 0.5, \"best_metric\": 0.8500292}, {\"run_id\": \"AutoML_f5ce51e2-e0f7-44a3-a639-235da7762a96_26\", \"run_number\": 1660687810, \"metric\": null, \"status\": \"Completed\", \"run_type\": \"azureml.scriptrun\", \"training_percent\": \"100\", \"start_time\": \"2022-08-16T22:10:16.436184Z\", \"end_time\": \"2022-08-16T22:10:57.398605Z\", \"created_time\": \"2022-08-16T22:10:10.220018Z\", \"created_time_dt\": \"2022-08-16T22:10:10.220018Z\", \"duration\": \"0:00:47\", \"iteration\": \"26\", \"goal\": \"AUC_weighted_max\", \"run_name\": \"SparseNormalizer, XGBoostClassifier\", \"run_properties\": \"copy=True, norm='l1'\", \"primary_metric\": 0.83939354, \"best_metric\": 0.8500292}, {\"run_id\": \"AutoML_f5ce51e2-e0f7-44a3-a639-235da7762a96_28\", \"run_number\": 1660687845, \"metric\": null, \"status\": \"Completed\", \"run_type\": \"azureml.scriptrun\", \"training_percent\": \"100\", \"start_time\": \"2022-08-16T22:10:53.029225Z\", \"end_time\": \"2022-08-16T22:11:20.949489Z\", \"created_time\": \"2022-08-16T22:10:45.66295Z\", \"created_time_dt\": \"2022-08-16T22:10:45.66295Z\", \"duration\": \"0:00:35\", \"iteration\": \"28\", \"goal\": \"AUC_weighted_max\", \"run_name\": \"MaxAbsScaler, LightGBM\", \"run_properties\": \"copy=True\", \"primary_metric\": 0.85019314, \"best_metric\": 0.85019314}, {\"run_id\": \"AutoML_f5ce51e2-e0f7-44a3-a639-235da7762a96_29\", \"run_number\": 1660687847, \"metric\": null, \"status\": \"Completed\", \"run_type\": \"azureml.scriptrun\", \"training_percent\": \"100\", \"start_time\": \"2022-08-16T22:11:01.660807Z\", \"end_time\": \"2022-08-16T22:11:28.341558Z\", \"created_time\": \"2022-08-16T22:10:47.611543Z\", \"created_time_dt\": \"2022-08-16T22:10:47.611543Z\", \"duration\": \"0:00:40\", \"iteration\": \"29\", \"goal\": \"AUC_weighted_max\", \"run_name\": \"StandardScalerWrapper, LightGBM\", \"run_properties\": \"copy=True, with_mean=False, with_std=True\", \"primary_metric\": 0.8486856, \"best_metric\": 0.85019314}, {\"run_id\": \"AutoML_f5ce51e2-e0f7-44a3-a639-235da7762a96_30\", \"run_number\": 1660687856, \"metric\": null, \"status\": \"Completed\", \"run_type\": \"azureml.scriptrun\", \"training_percent\": \"100\", \"start_time\": \"2022-08-16T22:11:01.844714Z\", \"end_time\": \"2022-08-16T22:11:31.350279Z\", \"created_time\": \"2022-08-16T22:10:56.221652Z\", \"created_time_dt\": \"2022-08-16T22:10:56.221652Z\", \"duration\": \"0:00:35\", \"iteration\": \"30\", \"goal\": \"AUC_weighted_max\", \"run_name\": \"TruncatedSVDWrapper, ExtremeRandomTrees\", \"run_properties\": \"n_components=0.15842105263157896, random_state=None\", \"primary_metric\": 0.74635923, \"best_metric\": 0.85019314}, {\"run_id\": \"AutoML_f5ce51e2-e0f7-44a3-a639-235da7762a96_31\", \"run_number\": 1660687858, \"metric\": null, \"status\": \"Completed\", \"run_type\": \"azureml.scriptrun\", \"training_percent\": \"100\", \"start_time\": \"2022-08-16T22:11:04.789171Z\", \"end_time\": \"2022-08-16T22:11:36.740203Z\", \"created_time\": \"2022-08-16T22:10:58.787345Z\", \"created_time_dt\": \"2022-08-16T22:10:58.787345Z\", \"duration\": \"0:00:37\", \"iteration\": \"31\", \"goal\": \"AUC_weighted_max\", \"run_name\": \"SparseNormalizer, LightGBM\", \"run_properties\": \"copy=True, norm='l1'\", \"primary_metric\": 0.81887635, \"best_metric\": 0.85019314}, {\"run_id\": \"AutoML_f5ce51e2-e0f7-44a3-a639-235da7762a96_32\", \"run_number\": 1660687882, \"metric\": null, \"status\": \"Completed\", \"run_type\": \"azureml.scriptrun\", \"training_percent\": \"100\", \"start_time\": \"2022-08-16T22:11:29.148568Z\", \"end_time\": \"2022-08-16T22:12:13.20011Z\", \"created_time\": \"2022-08-16T22:11:22.220543Z\", \"created_time_dt\": \"2022-08-16T22:11:22.220543Z\", \"duration\": \"0:00:50\", \"iteration\": \"32\", \"goal\": \"AUC_weighted_max\", \"run_name\": \"StandardScalerWrapper, XGBoostClassifier\", \"run_properties\": \"copy=True, with_mean=False, with_std=False\", \"primary_metric\": 0.78597176, \"best_metric\": 0.85019314}, {\"run_id\": \"AutoML_f5ce51e2-e0f7-44a3-a639-235da7762a96_33\", \"run_number\": 1660687889, \"metric\": null, \"status\": \"Completed\", \"run_type\": \"azureml.scriptrun\", \"training_percent\": \"100\", \"start_time\": \"2022-08-16T22:11:34.96065Z\", \"end_time\": \"2022-08-16T22:12:02.139103Z\", \"created_time\": \"2022-08-16T22:11:29.512237Z\", \"created_time_dt\": \"2022-08-16T22:11:29.512237Z\", \"duration\": \"0:00:32\", \"iteration\": \"33\", \"goal\": \"AUC_weighted_max\", \"run_name\": \"StandardScalerWrapper, XGBoostClassifier\", \"run_properties\": \"copy=True, with_mean=False, with_std=False\", \"primary_metric\": 0.84433062, \"best_metric\": 0.85019314}, {\"run_id\": \"AutoML_f5ce51e2-e0f7-44a3-a639-235da7762a96_34\", \"run_number\": 1660687892, \"metric\": null, \"status\": \"Completed\", \"run_type\": \"azureml.scriptrun\", \"training_percent\": \"100\", \"start_time\": \"2022-08-16T22:11:41.085343Z\", \"end_time\": \"2022-08-16T22:12:09.16257Z\", \"created_time\": \"2022-08-16T22:11:32.944155Z\", \"created_time_dt\": \"2022-08-16T22:11:32.944155Z\", \"duration\": \"0:00:36\", \"iteration\": \"34\", \"goal\": \"AUC_weighted_max\", \"run_name\": \"StandardScalerWrapper, LightGBM\", \"run_properties\": \"copy=True, with_mean=False, with_std=True\", \"primary_metric\": 0.85154741, \"best_metric\": 0.85154741}, {\"run_id\": \"AutoML_f5ce51e2-e0f7-44a3-a639-235da7762a96_35\", \"run_number\": 1660687898, \"metric\": null, \"status\": \"Completed\", \"run_type\": \"azureml.scriptrun\", \"training_percent\": \"100\", \"start_time\": \"2022-08-16T22:11:44.315331Z\", \"end_time\": \"2022-08-16T22:12:15.972549Z\", \"created_time\": \"2022-08-16T22:11:38.934251Z\", \"created_time_dt\": \"2022-08-16T22:11:38.934251Z\", \"duration\": \"0:00:37\", \"iteration\": \"35\", \"goal\": \"AUC_weighted_max\", \"run_name\": \"MaxAbsScaler, LightGBM\", \"run_properties\": \"copy=True\", \"primary_metric\": 0.8329057, \"best_metric\": 0.85154741}, {\"run_id\": \"AutoML_f5ce51e2-e0f7-44a3-a639-235da7762a96_36\", \"run_number\": 1660687923, \"metric\": null, \"status\": \"Completed\", \"run_type\": \"azureml.scriptrun\", \"training_percent\": \"100\", \"start_time\": \"2022-08-16T22:12:11.284955Z\", \"end_time\": \"2022-08-16T22:12:49.446564Z\", \"created_time\": \"2022-08-16T22:12:03.51915Z\", \"created_time_dt\": \"2022-08-16T22:12:03.51915Z\", \"duration\": \"0:00:45\", \"iteration\": \"36\", \"goal\": \"AUC_weighted_max\", \"run_name\": \"SparseNormalizer, XGBoostClassifier\", \"run_properties\": \"copy=True, norm='l1'\", \"primary_metric\": 0.82366212, \"best_metric\": 0.85154741}, {\"run_id\": \"AutoML_f5ce51e2-e0f7-44a3-a639-235da7762a96_37\", \"run_number\": 1660687930, \"metric\": null, \"status\": \"Completed\", \"run_type\": \"azureml.scriptrun\", \"training_percent\": \"100\", \"start_time\": \"2022-08-16T22:12:17.392922Z\", \"end_time\": \"2022-08-16T22:12:47.651117Z\", \"created_time\": \"2022-08-16T22:12:10.434659Z\", \"created_time_dt\": \"2022-08-16T22:12:10.434659Z\", \"duration\": \"0:00:37\", \"iteration\": \"37\", \"goal\": \"AUC_weighted_max\", \"run_name\": \"StandardScalerWrapper, LightGBM\", \"run_properties\": \"copy=True, with_mean=False, with_std=False\", \"primary_metric\": 0.84393929, \"best_metric\": 0.85154741}, {\"run_id\": \"AutoML_f5ce51e2-e0f7-44a3-a639-235da7762a96_38\", \"run_number\": 1660687934, \"metric\": null, \"status\": \"Completed\", \"run_type\": \"azureml.scriptrun\", \"training_percent\": \"100\", \"start_time\": \"2022-08-16T22:12:20.73258Z\", \"end_time\": \"2022-08-16T22:12:49.026718Z\", \"created_time\": \"2022-08-16T22:12:14.521912Z\", \"created_time_dt\": \"2022-08-16T22:12:14.521912Z\", \"duration\": \"0:00:34\", \"iteration\": \"38\", \"goal\": \"AUC_weighted_max\", \"run_name\": \"StandardScalerWrapper, LightGBM\", \"run_properties\": \"copy=True, with_mean=False, with_std=True\", \"primary_metric\": 0.84071768, \"best_metric\": 0.85154741}, {\"run_id\": \"AutoML_f5ce51e2-e0f7-44a3-a639-235da7762a96_39\", \"run_number\": 1660687937, \"metric\": null, \"status\": \"Completed\", \"run_type\": \"azureml.scriptrun\", \"training_percent\": \"100\", \"start_time\": \"2022-08-16T22:12:23.799108Z\", \"end_time\": \"2022-08-16T22:12:53.686567Z\", \"created_time\": \"2022-08-16T22:12:17.271452Z\", \"created_time_dt\": \"2022-08-16T22:12:17.271452Z\", \"duration\": \"0:00:36\", \"iteration\": \"39\", \"goal\": \"AUC_weighted_max\", \"run_name\": \"MaxAbsScaler, LightGBM\", \"run_properties\": \"copy=True\", \"primary_metric\": 0.85011472, \"best_metric\": 0.85154741}, {\"run_id\": \"AutoML_f5ce51e2-e0f7-44a3-a639-235da7762a96_40\", \"run_number\": 1660687969, \"metric\": null, \"status\": \"Completed\", \"run_type\": \"azureml.scriptrun\", \"training_percent\": \"100\", \"start_time\": \"2022-08-16T22:12:56.995926Z\", \"end_time\": \"2022-08-16T22:13:24.533297Z\", \"created_time\": \"2022-08-16T22:12:49.914076Z\", \"created_time_dt\": \"2022-08-16T22:12:49.914076Z\", \"duration\": \"0:00:34\", \"iteration\": \"40\", \"goal\": \"AUC_weighted_max\", \"run_name\": \"StandardScalerWrapper, LightGBM\", \"run_properties\": \"copy=True, with_mean=False, with_std=True\", \"primary_metric\": 0.84701749, \"best_metric\": 0.85154741}, {\"run_id\": \"AutoML_f5ce51e2-e0f7-44a3-a639-235da7762a96_42\", \"run_number\": 1660687971, \"metric\": null, \"status\": \"Completed\", \"run_type\": \"azureml.scriptrun\", \"training_percent\": \"100\", \"start_time\": \"2022-08-16T22:12:56.697846Z\", \"end_time\": \"2022-08-16T22:13:23.731475Z\", \"created_time\": \"2022-08-16T22:12:51.852357Z\", \"created_time_dt\": \"2022-08-16T22:12:51.852357Z\", \"duration\": \"0:00:31\", \"iteration\": \"42\", \"goal\": \"AUC_weighted_max\", \"run_name\": \"StandardScalerWrapper, LightGBM\", \"run_properties\": \"copy=True, with_mean=False, with_std=False\", \"primary_metric\": 0.84594024, \"best_metric\": 0.85154741}, {\"run_id\": \"AutoML_f5ce51e2-e0f7-44a3-a639-235da7762a96_43\", \"run_number\": 1660687974, \"metric\": null, \"status\": \"Completed\", \"run_type\": \"azureml.scriptrun\", \"training_percent\": \"100\", \"start_time\": \"2022-08-16T22:12:59.88727Z\", \"end_time\": \"2022-08-16T22:13:40.761285Z\", \"created_time\": \"2022-08-16T22:12:54.938Z\", \"created_time_dt\": \"2022-08-16T22:12:54.938Z\", \"duration\": \"0:00:45\", \"iteration\": \"43\", \"goal\": \"AUC_weighted_max\", \"run_name\": \"StandardScalerWrapper, LightGBM\", \"run_properties\": \"copy=True, with_mean=False, with_std=True\", \"primary_metric\": 0.83806786, \"best_metric\": 0.85154741}, {\"run_id\": \"AutoML_f5ce51e2-e0f7-44a3-a639-235da7762a96_44\", \"run_number\": 1660688005, \"metric\": null, \"status\": \"Completed\", \"run_type\": \"azureml.scriptrun\", \"training_percent\": \"100\", \"start_time\": \"2022-08-16T22:13:33.139462Z\", \"end_time\": \"2022-08-16T22:14:00.70511Z\", \"created_time\": \"2022-08-16T22:13:25.067402Z\", \"created_time_dt\": \"2022-08-16T22:13:25.067402Z\", \"duration\": \"0:00:35\", \"iteration\": \"44\", \"goal\": \"AUC_weighted_max\", \"run_name\": \"StandardScalerWrapper, LightGBM\", \"run_properties\": \"copy=True, with_mean=False, with_std=True\", \"primary_metric\": 0.83278937, \"best_metric\": 0.85154741}, {\"run_id\": \"AutoML_f5ce51e2-e0f7-44a3-a639-235da7762a96_46\", \"run_number\": 1660688007, \"metric\": null, \"status\": \"Completed\", \"run_type\": \"azureml.scriptrun\", \"training_percent\": \"100\", \"start_time\": \"2022-08-16T22:13:33.019067Z\", \"end_time\": \"2022-08-16T22:14:00.494265Z\", \"created_time\": \"2022-08-16T22:13:27.679596Z\", \"created_time_dt\": \"2022-08-16T22:13:27.679596Z\", \"duration\": \"0:00:32\", \"iteration\": \"46\", \"goal\": \"AUC_weighted_max\", \"run_name\": \"SparseNormalizer, LightGBM\", \"run_properties\": \"copy=True, norm='l1'\", \"primary_metric\": 0.83023949, \"best_metric\": 0.85154741}, {\"run_id\": \"AutoML_f5ce51e2-e0f7-44a3-a639-235da7762a96_47\", \"run_number\": 1660688022, \"metric\": null, \"status\": \"Canceled\", \"run_type\": \"azureml.scriptrun\", \"training_percent\": \"100\", \"start_time\": \"2022-08-16T22:13:51.530472Z\", \"end_time\": \"2022-08-16T22:14:04.414873Z\", \"created_time\": \"2022-08-16T22:13:42.103936Z\", \"created_time_dt\": \"2022-08-16T22:13:42.103936Z\", \"duration\": \"0:00:22\", \"iteration\": \"47\", \"goal\": null, \"run_name\": \"StandardScalerWrapper, LightGBM\", \"run_properties\": null}, {\"run_id\": \"AutoML_f5ce51e2-e0f7-44a3-a639-235da7762a96_49\", \"run_number\": 1660688041, \"metric\": null, \"status\": \"Canceled\", \"run_type\": \"azureml.scriptrun\", \"training_percent\": \"100\", \"start_time\": \"2022-08-16T22:14:03.433536Z\", \"end_time\": \"2022-08-16T22:14:03.658959Z\", \"created_time\": \"2022-08-16T22:14:01.860618Z\", \"created_time_dt\": \"2022-08-16T22:14:01.860618Z\", \"duration\": \"0:00:01\", \"iteration\": \"49\", \"goal\": null, \"run_name\": \"Canceled\", \"run_properties\": null}, {\"run_id\": \"AutoML_f5ce51e2-e0f7-44a3-a639-235da7762a96_51\", \"run_number\": 1660688045, \"metric\": null, \"status\": \"Completed\", \"run_type\": \"azureml.scriptrun\", \"training_percent\": \"100\", \"start_time\": \"2022-08-16T22:14:09.404008Z\", \"end_time\": \"2022-08-16T22:15:42.068752Z\", \"created_time\": \"2022-08-16T22:14:05.171683Z\", \"created_time_dt\": \"2022-08-16T22:14:05.171683Z\", \"duration\": \"0:01:36\", \"iteration\": \"51\", \"goal\": \"AUC_weighted_max\", \"run_name\": \"StackEnsemble\", \"run_properties\": \"base_learners=[('34', Pipeline(memory=None, steps=[('standardscalerwrapper', StandardScalerWrapper(copy=True, with_mean=False, with_std=True\", \"primary_metric\": 0.85393444, \"best_metric\": 0.85393444}], \"children_metrics\": {\"categories\": [0], \"series\": {\"average_precision_score_micro\": [{\"categories\": [\"0\", \"6\", \"11\", \"17\", \"21\", \"22\", \"23\", \"25\", \"26\", \"28\", \"29\", \"30\", \"31\", \"32\", \"33\", \"34\", \"35\", \"36\", \"37\", \"38\", \"39\", \"40\", \"42\", \"43\", \"44\", \"46\", \"51\"], \"mode\": \"markers\", \"name\": \"average_precision_score_micro\", \"stepped\": false, \"type\": \"scatter\", \"data\": [0.9803296637478173, 0.8064008040349651, 0.7674892081333581, 0.8663595970724568, 0.9812707109226215, 0.9807467933479626, 0.8333942119180394, 0.7929239145623705, 0.9825883895523726, 0.9837772062557887, 0.9833201024635407, 0.9730408022195031, 0.9809029318660084, 0.9751352403859022, 0.9833873649130348, 0.9837546309800798, 0.9818281906730647, 0.9810046542089834, 0.9816223000354437, 0.9826072472036577, 0.9836259552659203, 0.98304871043072, 0.9828173152969878, 0.982009066891264, 0.9812815722799078, 0.9818251199807205, 0.9840710904985205]}, {\"categories\": [\"0\", \"6\", \"11\", \"17\", \"21\", \"22\", \"23\", \"25\", \"26\", \"28\", \"29\", \"30\", \"31\", \"32\", \"33\", \"34\", \"35\", \"36\", \"37\", \"38\", \"39\", \"40\", \"42\", \"43\", \"44\", \"46\", \"51\"], \"mode\": \"lines\", \"name\": \"average_precision_score_micro_max\", \"stepped\": true, \"type\": \"scatter\", \"data\": [0.9803296637478173, 0.9803296637478173, 0.9803296637478173, 0.9803296637478173, 0.9812707109226215, 0.9812707109226215, 0.9812707109226215, 0.9812707109226215, 0.9825883895523726, 0.9837772062557887, 0.9837772062557887, 0.9837772062557887, 0.9837772062557887, 0.9837772062557887, 0.9837772062557887, 0.9837772062557887, 0.9837772062557887, 0.9837772062557887, 0.9837772062557887, 0.9837772062557887, 0.9837772062557887, 0.9837772062557887, 0.9837772062557887, 0.9837772062557887, 0.9837772062557887, 0.9837772062557887, 0.9840710904985205]}], \"AUC_weighted\": [{\"categories\": [\"0\", \"6\", \"11\", \"17\", \"21\", \"22\", \"23\", \"25\", \"26\", \"28\", \"29\", \"30\", \"31\", \"32\", \"33\", \"34\", \"35\", \"36\", \"37\", \"38\", \"39\", \"40\", \"42\", \"43\", \"44\", \"46\", \"51\"], \"mode\": \"markers\", \"name\": \"AUC_weighted\", \"stepped\": false, \"type\": \"scatter\", \"data\": [0.8199639254862378, 0.8025895473707505, 0.800414212633406, 0.850029203415224, 0.8354424014865648, 0.8227035488927795, 0.8092756077110034, 0.5, 0.8393935373286545, 0.8501931352010581, 0.8486855960752037, 0.7463592347450528, 0.8188763518255502, 0.7859717550615563, 0.8443306227465234, 0.8515474116852056, 0.8329057012769887, 0.8236621216175035, 0.8439392894029014, 0.8407176779379654, 0.8501147201107486, 0.8470174939879671, 0.8459402442462605, 0.8380678579141989, 0.8327893651967649, 0.8302394918315448, 0.8539344353496497]}, {\"categories\": [\"0\", \"6\", \"11\", \"17\", \"21\", \"22\", \"23\", \"25\", \"26\", \"28\", \"29\", \"30\", \"31\", \"32\", \"33\", \"34\", \"35\", \"36\", \"37\", \"38\", \"39\", \"40\", \"42\", \"43\", \"44\", \"46\", \"51\"], \"mode\": \"lines\", \"name\": \"AUC_weighted_max\", \"stepped\": true, \"type\": \"scatter\", \"data\": [0.8199639254862378, 0.8199639254862378, 0.8199639254862378, 0.850029203415224, 0.850029203415224, 0.850029203415224, 0.850029203415224, 0.850029203415224, 0.850029203415224, 0.8501931352010581, 0.8501931352010581, 0.8501931352010581, 0.8501931352010581, 0.8501931352010581, 0.8501931352010581, 0.8515474116852056, 0.8515474116852056, 0.8515474116852056, 0.8515474116852056, 0.8515474116852056, 0.8515474116852056, 0.8515474116852056, 0.8515474116852056, 0.8515474116852056, 0.8515474116852056, 0.8515474116852056, 0.8539344353496497]}], \"f1_score_weighted\": [{\"categories\": [\"0\", \"6\", \"11\", \"17\", \"21\", \"22\", \"23\", \"25\", \"26\", \"28\", \"29\", \"30\", \"31\", \"32\", \"33\", \"34\", \"35\", \"36\", \"37\", \"38\", \"39\", \"40\", \"42\", \"43\", \"44\", \"46\", \"51\"], \"mode\": \"markers\", \"name\": \"f1_score_weighted\", \"stepped\": false, \"type\": \"scatter\", \"data\": [0.9300518585509367, 0.7307256810724438, 0.7725429073699166, 0.8089229627305295, 0.9342166580056922, 0.9302172990911666, 0.7553606516369267, 0.648801951073785, 0.9276269760830005, 0.9286466805511076, 0.9276269760830005, 0.9276269760830005, 0.9282199430916098, 0.9278587399650078, 0.9332611918851264, 0.9276269760830005, 0.9301432069384257, 0.9314337510730066, 0.9290945926957915, 0.9276269760830005, 0.9276269760830005, 0.9282119736738899, 0.930461398776942, 0.9276269760830005, 0.9285370319620796, 0.9299263502020718, 0.9276269760830005]}, {\"categories\": [\"0\", \"6\", \"11\", \"17\", \"21\", \"22\", \"23\", \"25\", \"26\", \"28\", \"29\", \"30\", \"31\", \"32\", \"33\", \"34\", \"35\", \"36\", \"37\", \"38\", \"39\", \"40\", \"42\", \"43\", \"44\", \"46\", \"51\"], \"mode\": \"lines\", \"name\": \"f1_score_weighted_max\", \"stepped\": true, \"type\": \"scatter\", \"data\": [0.9300518585509367, 0.9300518585509367, 0.9300518585509367, 0.9300518585509367, 0.9342166580056922, 0.9342166580056922, 0.9342166580056922, 0.9342166580056922, 0.9342166580056922, 0.9342166580056922, 0.9342166580056922, 0.9342166580056922, 0.9342166580056922, 0.9342166580056922, 0.9342166580056922, 0.9342166580056922, 0.9342166580056922, 0.9342166580056922, 0.9342166580056922, 0.9342166580056922, 0.9342166580056922, 0.9342166580056922, 0.9342166580056922, 0.9342166580056922, 0.9342166580056922, 0.9342166580056922, 0.9342166580056922]}], \"recall_score_macro\": [{\"categories\": [\"0\", \"6\", \"11\", \"17\", \"21\", \"22\", \"23\", \"25\", \"26\", \"28\", \"29\", \"30\", \"31\", \"32\", \"33\", \"34\", \"35\", \"36\", \"37\", \"38\", \"39\", \"40\", \"42\", \"43\", \"44\", \"46\", \"51\"], \"mode\": \"markers\", \"name\": \"recall_score_macro\", \"stepped\": false, \"type\": \"scatter\", \"data\": [0.5320344398428772, 0.7327479593642693, 0.7221473633872018, 0.7722845986173363, 0.532483698541429, 0.525951861463065, 0.7421238965608813, 0.5, 0.5, 0.5046499005399261, 0.5, 0.5, 0.5065822491835822, 0.5370742321818854, 0.5274877474249494, 0.5, 0.5175838403378038, 0.5277540986912658, 0.509174229261512, 0.5, 0.5, 0.502, 0.5134326042439628, 0.5, 0.5075327097194382, 0.5144713779962172, 0.5]}, {\"categories\": [\"0\", \"6\", \"11\", \"17\", \"21\", \"22\", \"23\", \"25\", \"26\", \"28\", \"29\", \"30\", \"31\", \"32\", \"33\", \"34\", \"35\", \"36\", \"37\", \"38\", \"39\", \"40\", \"42\", \"43\", \"44\", \"46\", \"51\"], \"mode\": \"lines\", \"name\": \"recall_score_macro_max\", \"stepped\": true, \"type\": \"scatter\", \"data\": [0.5320344398428772, 0.7327479593642693, 0.7327479593642693, 0.7722845986173363, 0.7722845986173363, 0.7722845986173363, 0.7722845986173363, 0.7722845986173363, 0.7722845986173363, 0.7722845986173363, 0.7722845986173363, 0.7722845986173363, 0.7722845986173363, 0.7722845986173363, 0.7722845986173363, 0.7722845986173363, 0.7722845986173363, 0.7722845986173363, 0.7722845986173363, 0.7722845986173363, 0.7722845986173363, 0.7722845986173363, 0.7722845986173363, 0.7722845986173363, 0.7722845986173363, 0.7722845986173363, 0.7722845986173363]}], \"accuracy\": [{\"categories\": [\"0\", \"6\", \"11\", \"17\", \"21\", \"22\", \"23\", \"25\", \"26\", \"28\", \"29\", \"30\", \"31\", \"32\", \"33\", \"34\", \"35\", \"36\", \"37\", \"38\", \"39\", \"40\", \"42\", \"43\", \"44\", \"46\", \"51\"], \"mode\": \"markers\", \"name\": \"accuracy\", \"stepped\": false, \"type\": \"scatter\", \"data\": [0.9452101011553765, 0.6276828946737618, 0.6824877750611247, 0.7328772951723477, 0.9530376576058295, 0.9474123879380603, 0.6594767246752002, 0.67821983316554, 0.9513249676398677, 0.9515694664173738, 0.9513249676398677, 0.9513249676398677, 0.949857974974831, 0.9400720312574908, 0.9525480607891078, 0.9513249676398677, 0.9498561771897023, 0.9491250779040223, 0.9508353708231458, 0.9513249676398677, 0.9513249676398677, 0.9515694664173738, 0.9518133659331702, 0.9513249676398677, 0.9496116784121963, 0.9508347715614363, 0.9513249676398677]}, {\"categories\": [\"0\", \"6\", \"11\", \"17\", \"21\", \"22\", \"23\", \"25\", \"26\", \"28\", \"29\", \"30\", \"31\", \"32\", \"33\", \"34\", \"35\", \"36\", \"37\", \"38\", \"39\", \"40\", \"42\", \"43\", \"44\", \"46\", \"51\"], \"mode\": \"lines\", \"name\": \"accuracy_max\", \"stepped\": true, \"type\": \"scatter\", \"data\": [0.9452101011553765, 0.9452101011553765, 0.9452101011553765, 0.9452101011553765, 0.9530376576058295, 0.9530376576058295, 0.9530376576058295, 0.9530376576058295, 0.9530376576058295, 0.9530376576058295, 0.9530376576058295, 0.9530376576058295, 0.9530376576058295, 0.9530376576058295, 0.9530376576058295, 0.9530376576058295, 0.9530376576058295, 0.9530376576058295, 0.9530376576058295, 0.9530376576058295, 0.9530376576058295, 0.9530376576058295, 0.9530376576058295, 0.9530376576058295, 0.9530376576058295, 0.9530376576058295, 0.9530376576058295]}], \"AUC_macro\": [{\"categories\": [\"0\", \"6\", \"11\", \"17\", \"21\", \"22\", \"23\", \"25\", \"26\", \"28\", \"29\", \"30\", \"31\", \"32\", \"33\", \"34\", \"35\", \"36\", \"37\", \"38\", \"39\", \"40\", \"42\", \"43\", \"44\", \"46\", \"51\"], \"mode\": \"markers\", \"name\": \"AUC_macro\", \"stepped\": false, \"type\": \"scatter\", \"data\": [0.8199639254862378, 0.8025895473707507, 0.800414212633406, 0.850029203415224, 0.8354424014865648, 0.8227035488927793, 0.8092756077110035, 0.5, 0.8393935373286545, 0.8501931352010583, 0.8486855960752037, 0.7463592347450527, 0.8188763518255502, 0.7859740408704398, 0.8443306227465234, 0.8515474116852058, 0.8329057012769887, 0.8236621216175035, 0.8439392894029014, 0.8407176779379656, 0.8501147201107486, 0.8470174939879671, 0.8459402442462605, 0.8380678579141989, 0.8327893651967649, 0.8302394918315448, 0.8539344353496497]}, {\"categories\": [\"0\", \"6\", \"11\", \"17\", \"21\", \"22\", \"23\", \"25\", \"26\", \"28\", \"29\", \"30\", \"31\", \"32\", \"33\", \"34\", \"35\", \"36\", \"37\", \"38\", \"39\", \"40\", \"42\", \"43\", \"44\", \"46\", \"51\"], \"mode\": \"lines\", \"name\": \"AUC_macro_max\", \"stepped\": true, \"type\": \"scatter\", \"data\": [0.8199639254862378, 0.8199639254862378, 0.8199639254862378, 0.850029203415224, 0.850029203415224, 0.850029203415224, 0.850029203415224, 0.850029203415224, 0.850029203415224, 0.8501931352010583, 0.8501931352010583, 0.8501931352010583, 0.8501931352010583, 0.8501931352010583, 0.8501931352010583, 0.8515474116852058, 0.8515474116852058, 0.8515474116852058, 0.8515474116852058, 0.8515474116852058, 0.8515474116852058, 0.8515474116852058, 0.8515474116852058, 0.8515474116852058, 0.8515474116852058, 0.8515474116852058, 0.8539344353496497]}], \"log_loss\": [{\"categories\": [\"0\", \"6\", \"11\", \"17\", \"21\", \"22\", \"23\", \"25\", \"26\", \"28\", \"29\", \"30\", \"31\", \"32\", \"33\", \"34\", \"35\", \"36\", \"37\", \"38\", \"39\", \"40\", \"42\", \"43\", \"44\", \"46\", \"51\"], \"mode\": \"markers\", \"name\": \"log_loss\", \"stepped\": false, \"type\": \"scatter\", \"data\": [0.18973618602281897, 0.6000572726463467, 0.6626270329180208, 0.4547874843411591, 0.19073203182164447, 0.1718704630967182, 0.5193154659152002, 0.6921561630176385, 0.15912173669723503, 0.15443490404861743, 0.15457401098765894, 0.19431412433468778, 0.1664244832273883, 0.2406334863186149, 0.1574011376859617, 0.15353251017077282, 0.16277688920329575, 0.17434168403677036, 0.15764474403175396, 0.15724221346189565, 0.1541856200315235, 0.1548430482613617, 0.15552586971840676, 0.16402075598795507, 0.16376982430034975, 0.16024088556030158, 0.18552491506779986]}, {\"categories\": [\"0\", \"6\", \"11\", \"17\", \"21\", \"22\", \"23\", \"25\", \"26\", \"28\", \"29\", \"30\", \"31\", \"32\", \"33\", \"34\", \"35\", \"36\", \"37\", \"38\", \"39\", \"40\", \"42\", \"43\", \"44\", \"46\", \"51\"], \"mode\": \"lines\", \"name\": \"log_loss_min\", \"stepped\": true, \"type\": \"scatter\", \"data\": [0.18973618602281897, 0.18973618602281897, 0.18973618602281897, 0.18973618602281897, 0.18973618602281897, 0.1718704630967182, 0.1718704630967182, 0.1718704630967182, 0.15912173669723503, 0.15443490404861743, 0.15443490404861743, 0.15443490404861743, 0.15443490404861743, 0.15443490404861743, 0.15443490404861743, 0.15353251017077282, 0.15353251017077282, 0.15353251017077282, 0.15353251017077282, 0.15353251017077282, 0.15353251017077282, 0.15353251017077282, 0.15353251017077282, 0.15353251017077282, 0.15353251017077282, 0.15353251017077282, 0.15353251017077282]}], \"precision_score_macro\": [{\"categories\": [\"0\", \"6\", \"11\", \"17\", \"21\", \"22\", \"23\", \"25\", \"26\", \"28\", \"29\", \"30\", \"31\", \"32\", \"33\", \"34\", \"35\", \"36\", \"37\", \"38\", \"39\", \"40\", \"42\", \"43\", \"44\", \"46\", \"51\"], \"mode\": \"markers\", \"name\": \"precision_score_macro\", \"stepped\": false, \"type\": \"scatter\", \"data\": [0.5980782381940439, 0.5446291584374099, 0.5457336666588418, 0.56049997116405, 0.709750853118465, 0.5904784508466758, 0.5479018868270762, 0.33910991658277, 0.47566248381993387, 0.550889578977275, 0.47566248381993387, 0.47566248381993387, 0.5759645369334748, 0.5841442603997841, 0.6936846586500854, 0.47566248381993387, 0.6165137514791419, 0.6624205907831298, 0.5760985245925241, 0.47566248381993387, 0.47566248381993387, 0.5257775420681721, 0.663838874334284, 0.47566248381993387, 0.5760628353647925, 0.5929876846452176, 0.47566248381993387]}, {\"categories\": [\"0\", \"6\", \"11\", \"17\", \"21\", \"22\", \"23\", \"25\", \"26\", \"28\", \"29\", \"30\", \"31\", \"32\", \"33\", \"34\", \"35\", \"36\", \"37\", \"38\", \"39\", \"40\", \"42\", \"43\", \"44\", \"46\", \"51\"], \"mode\": \"lines\", \"name\": \"precision_score_macro_max\", \"stepped\": true, \"type\": \"scatter\", \"data\": [0.5980782381940439, 0.5980782381940439, 0.5980782381940439, 0.5980782381940439, 0.709750853118465, 0.709750853118465, 0.709750853118465, 0.709750853118465, 0.709750853118465, 0.709750853118465, 0.709750853118465, 0.709750853118465, 0.709750853118465, 0.709750853118465, 0.709750853118465, 0.709750853118465, 0.709750853118465, 0.709750853118465, 0.709750853118465, 0.709750853118465, 0.709750853118465, 0.709750853118465, 0.709750853118465, 0.709750853118465, 0.709750853118465, 0.709750853118465, 0.709750853118465]}], \"average_precision_score_macro\": [{\"categories\": [\"0\", \"6\", \"11\", \"17\", \"21\", \"22\", \"23\", \"25\", \"26\", \"28\", \"29\", \"30\", \"31\", \"32\", \"33\", \"34\", \"35\", \"36\", \"37\", \"38\", \"39\", \"40\", \"42\", \"43\", \"44\", \"46\", \"51\"], \"mode\": \"markers\", \"name\": \"average_precision_score_macro\", \"stepped\": false, \"type\": \"scatter\", \"data\": [0.5889840175120254, 0.5825889677020977, 0.5808073664424501, 0.6138292712552652, 0.613596183808927, 0.5915424924967526, 0.5795658183165233, 0.5, 0.6096365377468628, 0.6119439846691642, 0.6114255591949472, 0.5586734130780198, 0.5896079033948322, 0.5827561269251692, 0.6161858444400627, 0.6154694241701495, 0.5996851483996214, 0.6056122411816731, 0.6097583476199959, 0.5935648020809632, 0.6105558936628904, 0.6091832722685727, 0.6130167962163837, 0.5942184205378582, 0.5955090557939807, 0.61310671005737, 0.6174994329087005]}, {\"categories\": [\"0\", \"6\", \"11\", \"17\", \"21\", \"22\", \"23\", \"25\", \"26\", \"28\", \"29\", \"30\", \"31\", \"32\", \"33\", \"34\", \"35\", \"36\", \"37\", \"38\", \"39\", \"40\", \"42\", \"43\", \"44\", \"46\", \"51\"], \"mode\": \"lines\", \"name\": \"average_precision_score_macro_max\", \"stepped\": true, \"type\": \"scatter\", \"data\": [0.5889840175120254, 0.5889840175120254, 0.5889840175120254, 0.6138292712552652, 0.6138292712552652, 0.6138292712552652, 0.6138292712552652, 0.6138292712552652, 0.6138292712552652, 0.6138292712552652, 0.6138292712552652, 0.6138292712552652, 0.6138292712552652, 0.6138292712552652, 0.6161858444400627, 0.6161858444400627, 0.6161858444400627, 0.6161858444400627, 0.6161858444400627, 0.6161858444400627, 0.6161858444400627, 0.6161858444400627, 0.6161858444400627, 0.6161858444400627, 0.6161858444400627, 0.6161858444400627, 0.6174994329087005]}], \"precision_score_micro\": [{\"categories\": [\"0\", \"6\", \"11\", \"17\", \"21\", \"22\", \"23\", \"25\", \"26\", \"28\", \"29\", \"30\", \"31\", \"32\", \"33\", \"34\", \"35\", \"36\", \"37\", \"38\", \"39\", \"40\", \"42\", \"43\", \"44\", \"46\", \"51\"], \"mode\": \"markers\", \"name\": \"precision_score_micro\", \"stepped\": false, \"type\": \"scatter\", \"data\": [0.9452101011553765, 0.6276828946737618, 0.6824877750611247, 0.7328772951723477, 0.9530376576058295, 0.9474123879380603, 0.6594767246752002, 0.67821983316554, 0.9513249676398677, 0.9515694664173738, 0.9513249676398677, 0.9513249676398677, 0.949857974974831, 0.9400720312574908, 0.9525480607891078, 0.9513249676398677, 0.9498561771897023, 0.9491250779040223, 0.9508353708231458, 0.9513249676398677, 0.9513249676398677, 0.9515694664173738, 0.9518133659331702, 0.9513249676398677, 0.9496116784121963, 0.9508347715614363, 0.9513249676398677]}, {\"categories\": [\"0\", \"6\", \"11\", \"17\", \"21\", \"22\", \"23\", \"25\", \"26\", \"28\", \"29\", \"30\", \"31\", \"32\", \"33\", \"34\", \"35\", \"36\", \"37\", \"38\", \"39\", \"40\", \"42\", \"43\", \"44\", \"46\", \"51\"], \"mode\": \"lines\", \"name\": \"precision_score_micro_max\", \"stepped\": true, \"type\": \"scatter\", \"data\": [0.9452101011553765, 0.9452101011553765, 0.9452101011553765, 0.9452101011553765, 0.9530376576058295, 0.9530376576058295, 0.9530376576058295, 0.9530376576058295, 0.9530376576058295, 0.9530376576058295, 0.9530376576058295, 0.9530376576058295, 0.9530376576058295, 0.9530376576058295, 0.9530376576058295, 0.9530376576058295, 0.9530376576058295, 0.9530376576058295, 0.9530376576058295, 0.9530376576058295, 0.9530376576058295, 0.9530376576058295, 0.9530376576058295, 0.9530376576058295, 0.9530376576058295, 0.9530376576058295, 0.9530376576058295]}], \"weighted_accuracy\": [{\"categories\": [\"0\", \"6\", \"11\", \"17\", \"21\", \"22\", \"23\", \"25\", \"26\", \"28\", \"29\", \"30\", \"31\", \"32\", \"33\", \"34\", \"35\", \"36\", \"37\", \"38\", \"39\", \"40\", \"42\", \"43\", \"44\", \"46\", \"51\"], \"mode\": \"markers\", \"name\": \"weighted_accuracy\", \"stepped\": false, \"type\": \"scatter\", \"data\": [0.9871678750054447, 0.616897442134575, 0.6782543977589748, 0.7287473967326414, 0.9956269569509237, 0.9902213024868773, 0.6510222892958564, 0.6985531172084883, 0.9972274316215557, 0.9970008496347351, 0.9972274316215557, 0.9972274316215557, 0.9949732493497854, 0.981091141949876, 0.9956075301877391, 0.9972274316215557, 0.9937476222389044, 0.9920112720358608, 0.9957509747530768, 0.9972274316215557, 0.9972274316215557, 0.9972443142736178, 0.9962948645131975, 0.9972274316215557, 0.994473747246247, 0.9952592977225212, 0.9972274316215557]}, {\"categories\": [\"0\", \"6\", \"11\", \"17\", \"21\", \"22\", \"23\", \"25\", \"26\", \"28\", \"29\", \"30\", \"31\", \"32\", \"33\", \"34\", \"35\", \"36\", \"37\", \"38\", \"39\", \"40\", \"42\", \"43\", \"44\", \"46\", \"51\"], \"mode\": \"lines\", \"name\": \"weighted_accuracy_max\", \"stepped\": true, \"type\": \"scatter\", \"data\": [0.9871678750054447, 0.9871678750054447, 0.9871678750054447, 0.9871678750054447, 0.9956269569509237, 0.9956269569509237, 0.9956269569509237, 0.9956269569509237, 0.9972274316215557, 0.9972274316215557, 0.9972274316215557, 0.9972274316215557, 0.9972274316215557, 0.9972274316215557, 0.9972274316215557, 0.9972274316215557, 0.9972274316215557, 0.9972274316215557, 0.9972274316215557, 0.9972274316215557, 0.9972274316215557, 0.9972443142736178, 0.9972443142736178, 0.9972443142736178, 0.9972443142736178, 0.9972443142736178, 0.9972443142736178]}], \"norm_macro_recall\": [{\"categories\": [\"0\", \"6\", \"11\", \"17\", \"21\", \"22\", \"23\", \"25\", \"26\", \"28\", \"29\", \"30\", \"31\", \"32\", \"33\", \"34\", \"35\", \"36\", \"37\", \"38\", \"39\", \"40\", \"42\", \"43\", \"44\", \"46\", \"51\"], \"mode\": \"markers\", \"name\": \"norm_macro_recall\", \"stepped\": false, \"type\": \"scatter\", \"data\": [0.06712883904800312, 0.4654959187285386, 0.4442947267744035, 0.5445691972346728, 0.06547825359937764, 0.054452233979903085, 0.48424779312176264, 0.0, 0.0, 0.009299801079852222, 0.0, 0.0, 0.014954829757990163, 0.07516887252703612, 0.05548635136641835, 0.0, 0.036699597790279516, 0.05703233495634299, 0.019113774581029454, 0.0, 0.0, 0.0040000000000000036, 0.027631819480148544, 0.0, 0.016851796095034444, 0.029964469025473874, 0.0]}, {\"categories\": [\"0\", \"6\", \"11\", \"17\", \"21\", \"22\", \"23\", \"25\", \"26\", \"28\", \"29\", \"30\", \"31\", \"32\", \"33\", \"34\", \"35\", \"36\", \"37\", \"38\", \"39\", \"40\", \"42\", \"43\", \"44\", \"46\", \"51\"], \"mode\": \"lines\", \"name\": \"norm_macro_recall_max\", \"stepped\": true, \"type\": \"scatter\", \"data\": [0.06712883904800312, 0.4654959187285386, 0.4654959187285386, 0.5445691972346728, 0.5445691972346728, 0.5445691972346728, 0.5445691972346728, 0.5445691972346728, 0.5445691972346728, 0.5445691972346728, 0.5445691972346728, 0.5445691972346728, 0.5445691972346728, 0.5445691972346728, 0.5445691972346728, 0.5445691972346728, 0.5445691972346728, 0.5445691972346728, 0.5445691972346728, 0.5445691972346728, 0.5445691972346728, 0.5445691972346728, 0.5445691972346728, 0.5445691972346728, 0.5445691972346728, 0.5445691972346728, 0.5445691972346728]}], \"recall_score_weighted\": [{\"categories\": [\"0\", \"6\", \"11\", \"17\", \"21\", \"22\", \"23\", \"25\", \"26\", \"28\", \"29\", \"30\", \"31\", \"32\", \"33\", \"34\", \"35\", \"36\", \"37\", \"38\", \"39\", \"40\", \"42\", \"43\", \"44\", \"46\", \"51\"], \"mode\": \"markers\", \"name\": \"recall_score_weighted\", \"stepped\": false, \"type\": \"scatter\", \"data\": [0.9452101011553765, 0.6276828946737618, 0.6824877750611247, 0.7328772951723477, 0.9530376576058295, 0.9474123879380603, 0.6594767246752002, 0.67821983316554, 0.9513249676398677, 0.9515694664173738, 0.9513249676398677, 0.9513249676398677, 0.949857974974831, 0.9400720312574908, 0.9525480607891078, 0.9513249676398677, 0.9498561771897023, 0.9491250779040223, 0.9508353708231458, 0.9513249676398677, 0.9513249676398677, 0.9515694664173738, 0.9518133659331702, 0.9513249676398677, 0.9496116784121963, 0.9508347715614363, 0.9513249676398677]}, {\"categories\": [\"0\", \"6\", \"11\", \"17\", \"21\", \"22\", \"23\", \"25\", \"26\", \"28\", \"29\", \"30\", \"31\", \"32\", \"33\", \"34\", \"35\", \"36\", \"37\", \"38\", \"39\", \"40\", \"42\", \"43\", \"44\", \"46\", \"51\"], \"mode\": \"lines\", \"name\": \"recall_score_weighted_max\", \"stepped\": true, \"type\": \"scatter\", \"data\": [0.9452101011553765, 0.9452101011553765, 0.9452101011553765, 0.9452101011553765, 0.9530376576058295, 0.9530376576058295, 0.9530376576058295, 0.9530376576058295, 0.9530376576058295, 0.9530376576058295, 0.9530376576058295, 0.9530376576058295, 0.9530376576058295, 0.9530376576058295, 0.9530376576058295, 0.9530376576058295, 0.9530376576058295, 0.9530376576058295, 0.9530376576058295, 0.9530376576058295, 0.9530376576058295, 0.9530376576058295, 0.9530376576058295, 0.9530376576058295, 0.9530376576058295, 0.9530376576058295, 0.9530376576058295]}], \"precision_score_weighted\": [{\"categories\": [\"0\", \"6\", \"11\", \"17\", \"21\", \"22\", \"23\", \"25\", \"26\", \"28\", \"29\", \"30\", \"31\", \"32\", \"33\", \"34\", \"35\", \"36\", \"37\", \"38\", \"39\", \"40\", \"42\", \"43\", \"44\", \"46\", \"51\"], \"mode\": \"markers\", \"name\": \"precision_score_weighted\", \"stepped\": false, \"type\": \"scatter\", \"data\": [0.9203566145578292, 0.9446512354638632, 0.9406292729510979, 0.9463269619097383, 0.9326068550249053, 0.9192834493222662, 0.9447563698389322, 0.6320338311451407, 0.9051389656194685, 0.9138821871294083, 0.9051389656194685, 0.9051389656194685, 0.9170905642880699, 0.9197093987887126, 0.9312227958831997, 0.9051389656194685, 0.9218536781819602, 0.9254942835579039, 0.9167282787786395, 0.9051389656194685, 0.9051389656194685, 0.9114674857530796, 0.9279340664427522, 0.9051389656194685, 0.9172624866278263, 0.9177261203182188, 0.9051389656194685]}, {\"categories\": [\"0\", \"6\", \"11\", \"17\", \"21\", \"22\", \"23\", \"25\", \"26\", \"28\", \"29\", \"30\", \"31\", \"32\", \"33\", \"34\", \"35\", \"36\", \"37\", \"38\", \"39\", \"40\", \"42\", \"43\", \"44\", \"46\", \"51\"], \"mode\": \"lines\", \"name\": \"precision_score_weighted_max\", \"stepped\": true, \"type\": \"scatter\", \"data\": [0.9203566145578292, 0.9446512354638632, 0.9446512354638632, 0.9463269619097383, 0.9463269619097383, 0.9463269619097383, 0.9463269619097383, 0.9463269619097383, 0.9463269619097383, 0.9463269619097383, 0.9463269619097383, 0.9463269619097383, 0.9463269619097383, 0.9463269619097383, 0.9463269619097383, 0.9463269619097383, 0.9463269619097383, 0.9463269619097383, 0.9463269619097383, 0.9463269619097383, 0.9463269619097383, 0.9463269619097383, 0.9463269619097383, 0.9463269619097383, 0.9463269619097383, 0.9463269619097383, 0.9463269619097383]}], \"f1_score_micro\": [{\"categories\": [\"0\", \"6\", \"11\", \"17\", \"21\", \"22\", \"23\", \"25\", \"26\", \"28\", \"29\", \"30\", \"31\", \"32\", \"33\", \"34\", \"35\", \"36\", \"37\", \"38\", \"39\", \"40\", \"42\", \"43\", \"44\", \"46\", \"51\"], \"mode\": \"markers\", \"name\": \"f1_score_micro\", \"stepped\": false, \"type\": \"scatter\", \"data\": [0.9452101011553765, 0.6276828946737618, 0.6824877750611247, 0.7328772951723476, 0.9530376576058295, 0.9474123879380603, 0.6594767246752002, 0.67821983316554, 0.9513249676398677, 0.9515694664173738, 0.9513249676398677, 0.9513249676398677, 0.949857974974831, 0.9400720312574908, 0.9525480607891078, 0.9513249676398677, 0.9498561771897023, 0.9491250779040223, 0.9508353708231458, 0.9513249676398677, 0.9513249676398677, 0.9515694664173738, 0.9518133659331702, 0.9513249676398677, 0.9496116784121963, 0.9508347715614363, 0.9513249676398677]}, {\"categories\": [\"0\", \"6\", \"11\", \"17\", \"21\", \"22\", \"23\", \"25\", \"26\", \"28\", \"29\", \"30\", \"31\", \"32\", \"33\", \"34\", \"35\", \"36\", \"37\", \"38\", \"39\", \"40\", \"42\", \"43\", \"44\", \"46\", \"51\"], \"mode\": \"lines\", \"name\": \"f1_score_micro_max\", \"stepped\": true, \"type\": \"scatter\", \"data\": [0.9452101011553765, 0.9452101011553765, 0.9452101011553765, 0.9452101011553765, 0.9530376576058295, 0.9530376576058295, 0.9530376576058295, 0.9530376576058295, 0.9530376576058295, 0.9530376576058295, 0.9530376576058295, 0.9530376576058295, 0.9530376576058295, 0.9530376576058295, 0.9530376576058295, 0.9530376576058295, 0.9530376576058295, 0.9530376576058295, 0.9530376576058295, 0.9530376576058295, 0.9530376576058295, 0.9530376576058295, 0.9530376576058295, 0.9530376576058295, 0.9530376576058295, 0.9530376576058295, 0.9530376576058295]}], \"AUC_micro\": [{\"categories\": [\"0\", \"6\", \"11\", \"17\", \"21\", \"22\", \"23\", \"25\", \"26\", \"28\", \"29\", \"30\", \"31\", \"32\", \"33\", \"34\", \"35\", \"36\", \"37\", \"38\", \"39\", \"40\", \"42\", \"43\", \"44\", \"46\", \"51\"], \"mode\": \"markers\", \"name\": \"AUC_micro\", \"stepped\": false, \"type\": \"scatter\", \"data\": [0.9804111409998166, 0.7791048877157714, 0.7551680404062633, 0.8520087208585199, 0.9821801404649051, 0.980832550871467, 0.8113029286176298, 0.6782198331655401, 0.9825335482313575, 0.9834899111758718, 0.9833128167070413, 0.9741339129813815, 0.9807685213601683, 0.9767788453494848, 0.9830451446955566, 0.9835926448912653, 0.9818927382342274, 0.9809463456540024, 0.9828506209732609, 0.9825512019314455, 0.9834614927356424, 0.9831765777793455, 0.9831027876841407, 0.9822713040646249, 0.9819262038361891, 0.9816506761174908, 0.9838655313005592]}, {\"categories\": [\"0\", \"6\", \"11\", \"17\", \"21\", \"22\", \"23\", \"25\", \"26\", \"28\", \"29\", \"30\", \"31\", \"32\", \"33\", \"34\", \"35\", \"36\", \"37\", \"38\", \"39\", \"40\", \"42\", \"43\", \"44\", \"46\", \"51\"], \"mode\": \"lines\", \"name\": \"AUC_micro_max\", \"stepped\": true, \"type\": \"scatter\", \"data\": [0.9804111409998166, 0.9804111409998166, 0.9804111409998166, 0.9804111409998166, 0.9821801404649051, 0.9821801404649051, 0.9821801404649051, 0.9821801404649051, 0.9825335482313575, 0.9834899111758718, 0.9834899111758718, 0.9834899111758718, 0.9834899111758718, 0.9834899111758718, 0.9834899111758718, 0.9835926448912653, 0.9835926448912653, 0.9835926448912653, 0.9835926448912653, 0.9835926448912653, 0.9835926448912653, 0.9835926448912653, 0.9835926448912653, 0.9835926448912653, 0.9835926448912653, 0.9835926448912653, 0.9838655313005592]}], \"average_precision_score_weighted\": [{\"categories\": [\"0\", \"6\", \"11\", \"17\", \"21\", \"22\", \"23\", \"25\", \"26\", \"28\", \"29\", \"30\", \"31\", \"32\", \"33\", \"34\", \"35\", \"36\", \"37\", \"38\", \"39\", \"40\", \"42\", \"43\", \"44\", \"46\", \"51\"], \"mode\": \"markers\", \"name\": \"average_precision_score_weighted\", \"stepped\": false, \"type\": \"scatter\", \"data\": [0.9498995456626649, 0.9481684378880324, 0.9481021764952707, 0.9541794771683781, 0.9525364253139497, 0.9503904812674813, 0.9487344275874715, 0.9076279959592013, 0.9533331128709888, 0.954360071753477, 0.9538933060493273, 0.9416550447600665, 0.9504133221098868, 0.9455832459097383, 0.9547274792181977, 0.9547074942046295, 0.9518128812722131, 0.9518726172082262, 0.9522049251100707, 0.9515905199449927, 0.9540755263956223, 0.9534168937800201, 0.9536271876622049, 0.9511669610185407, 0.9508472491200817, 0.9531244266853584, 0.9550137496051768]}, {\"categories\": [\"0\", \"6\", \"11\", \"17\", \"21\", \"22\", \"23\", \"25\", \"26\", \"28\", \"29\", \"30\", \"31\", \"32\", \"33\", \"34\", \"35\", \"36\", \"37\", \"38\", \"39\", \"40\", \"42\", \"43\", \"44\", \"46\", \"51\"], \"mode\": \"lines\", \"name\": \"average_precision_score_weighted_max\", \"stepped\": true, \"type\": \"scatter\", \"data\": [0.9498995456626649, 0.9498995456626649, 0.9498995456626649, 0.9541794771683781, 0.9541794771683781, 0.9541794771683781, 0.9541794771683781, 0.9541794771683781, 0.9541794771683781, 0.954360071753477, 0.954360071753477, 0.954360071753477, 0.954360071753477, 0.954360071753477, 0.9547274792181977, 0.9547274792181977, 0.9547274792181977, 0.9547274792181977, 0.9547274792181977, 0.9547274792181977, 0.9547274792181977, 0.9547274792181977, 0.9547274792181977, 0.9547274792181977, 0.9547274792181977, 0.9547274792181977, 0.9550137496051768]}], \"matthews_correlation\": [{\"categories\": [\"0\", \"6\", \"11\", \"17\", \"21\", \"22\", \"23\", \"25\", \"26\", \"28\", \"29\", \"30\", \"31\", \"32\", \"33\", \"34\", \"35\", \"36\", \"37\", \"38\", \"39\", \"40\", \"42\", \"43\", \"44\", \"46\", \"51\"], \"mode\": \"markers\", \"name\": \"matthews_correlation\", \"stepped\": false, \"type\": \"scatter\", \"data\": [0.11147918128308654, 0.20294058601197457, 0.20054308699644818, 0.25538617164920074, 0.16011546117695535, 0.09756033131166324, 0.2143892650634009, 0.0, 0.0, 0.03498660092254776, 0.0, 0.0, 0.04553519746675642, 0.10888473234990341, 0.14257290059383182, 0.0, 0.0865446801974836, 0.1344163024253424, 0.053498498709286565, 0.0, 0.0, 0.01940285000290664, 0.08925508147305836, 0.0, 0.04860811456585511, 0.0767368069862229, 0.0]}, {\"categories\": [\"0\", \"6\", \"11\", \"17\", \"21\", \"22\", \"23\", \"25\", \"26\", \"28\", \"29\", \"30\", \"31\", \"32\", \"33\", \"34\", \"35\", \"36\", \"37\", \"38\", \"39\", \"40\", \"42\", \"43\", \"44\", \"46\", \"51\"], \"mode\": \"lines\", \"name\": \"matthews_correlation_max\", \"stepped\": true, \"type\": \"scatter\", \"data\": [0.11147918128308654, 0.20294058601197457, 0.20294058601197457, 0.25538617164920074, 0.25538617164920074, 0.25538617164920074, 0.25538617164920074, 0.25538617164920074, 0.25538617164920074, 0.25538617164920074, 0.25538617164920074, 0.25538617164920074, 0.25538617164920074, 0.25538617164920074, 0.25538617164920074, 0.25538617164920074, 0.25538617164920074, 0.25538617164920074, 0.25538617164920074, 0.25538617164920074, 0.25538617164920074, 0.25538617164920074, 0.25538617164920074, 0.25538617164920074, 0.25538617164920074, 0.25538617164920074, 0.25538617164920074]}], \"balanced_accuracy\": [{\"categories\": [\"0\", \"6\", \"11\", \"17\", \"21\", \"22\", \"23\", \"25\", \"26\", \"28\", \"29\", \"30\", \"31\", \"32\", \"33\", \"34\", \"35\", \"36\", \"37\", \"38\", \"39\", \"40\", \"42\", \"43\", \"44\", \"46\", \"51\"], \"mode\": \"markers\", \"name\": \"balanced_accuracy\", \"stepped\": false, \"type\": \"scatter\", \"data\": [0.5320344398428772, 0.7327479593642693, 0.7221473633872018, 0.7722845986173363, 0.532483698541429, 0.525951861463065, 0.7421238965608813, 0.5, 0.5, 0.5046499005399261, 0.5, 0.5, 0.5065822491835822, 0.5370742321818854, 0.5274877474249494, 0.5, 0.5175838403378038, 0.5277540986912658, 0.509174229261512, 0.5, 0.5, 0.502, 0.5134326042439628, 0.5, 0.5075327097194382, 0.5144713779962172, 0.5]}, {\"categories\": [\"0\", \"6\", \"11\", \"17\", \"21\", \"22\", \"23\", \"25\", \"26\", \"28\", \"29\", \"30\", \"31\", \"32\", \"33\", \"34\", \"35\", \"36\", \"37\", \"38\", \"39\", \"40\", \"42\", \"43\", \"44\", \"46\", \"51\"], \"mode\": \"lines\", \"name\": \"balanced_accuracy_max\", \"stepped\": true, \"type\": \"scatter\", \"data\": [0.5320344398428772, 0.7327479593642693, 0.7327479593642693, 0.7722845986173363, 0.7722845986173363, 0.7722845986173363, 0.7722845986173363, 0.7722845986173363, 0.7722845986173363, 0.7722845986173363, 0.7722845986173363, 0.7722845986173363, 0.7722845986173363, 0.7722845986173363, 0.7722845986173363, 0.7722845986173363, 0.7722845986173363, 0.7722845986173363, 0.7722845986173363, 0.7722845986173363, 0.7722845986173363, 0.7722845986173363, 0.7722845986173363, 0.7722845986173363, 0.7722845986173363, 0.7722845986173363, 0.7722845986173363]}], \"recall_score_micro\": [{\"categories\": [\"0\", \"6\", \"11\", \"17\", \"21\", \"22\", \"23\", \"25\", \"26\", \"28\", \"29\", \"30\", \"31\", \"32\", \"33\", \"34\", \"35\", \"36\", \"37\", \"38\", \"39\", \"40\", \"42\", \"43\", \"44\", \"46\", \"51\"], \"mode\": \"markers\", \"name\": \"recall_score_micro\", \"stepped\": false, \"type\": \"scatter\", \"data\": [0.9452101011553765, 0.6276828946737618, 0.6824877750611247, 0.7328772951723477, 0.9530376576058295, 0.9474123879380603, 0.6594767246752002, 0.67821983316554, 0.9513249676398677, 0.9515694664173738, 0.9513249676398677, 0.9513249676398677, 0.949857974974831, 0.9400720312574908, 0.9525480607891078, 0.9513249676398677, 0.9498561771897023, 0.9491250779040223, 0.9508353708231458, 0.9513249676398677, 0.9513249676398677, 0.9515694664173738, 0.9518133659331702, 0.9513249676398677, 0.9496116784121963, 0.9508347715614363, 0.9513249676398677]}, {\"categories\": [\"0\", \"6\", \"11\", \"17\", \"21\", \"22\", \"23\", \"25\", \"26\", \"28\", \"29\", \"30\", \"31\", \"32\", \"33\", \"34\", \"35\", \"36\", \"37\", \"38\", \"39\", \"40\", \"42\", \"43\", \"44\", \"46\", \"51\"], \"mode\": \"lines\", \"name\": \"recall_score_micro_max\", \"stepped\": true, \"type\": \"scatter\", \"data\": [0.9452101011553765, 0.9452101011553765, 0.9452101011553765, 0.9452101011553765, 0.9530376576058295, 0.9530376576058295, 0.9530376576058295, 0.9530376576058295, 0.9530376576058295, 0.9530376576058295, 0.9530376576058295, 0.9530376576058295, 0.9530376576058295, 0.9530376576058295, 0.9530376576058295, 0.9530376576058295, 0.9530376576058295, 0.9530376576058295, 0.9530376576058295, 0.9530376576058295, 0.9530376576058295, 0.9530376576058295, 0.9530376576058295, 0.9530376576058295, 0.9530376576058295, 0.9530376576058295, 0.9530376576058295]}], \"f1_score_macro\": [{\"categories\": [\"0\", \"6\", \"11\", \"17\", \"21\", \"22\", \"23\", \"25\", \"26\", \"28\", \"29\", \"30\", \"31\", \"32\", \"33\", \"34\", \"35\", \"36\", \"37\", \"38\", \"39\", \"40\", \"42\", \"43\", \"44\", \"46\", \"51\"], \"mode\": \"markers\", \"name\": \"f1_score_macro\", \"stepped\": false, \"type\": \"scatter\", \"data\": [0.5420907179610812, 0.46972354877111416, 0.49556426580326496, 0.5331150530173732, 0.5445210412919133, 0.5327511289686844, 0.4875174711349601, 0.3538188576286476, 0.48751147959836755, 0.4964159549403968, 0.48751147959836755, 0.48751147959836755, 0.5011632204002223, 0.5452869901846028, 0.5368215302026889, 0.48751147959836755, 0.5196479663526644, 0.5385862343954468, 0.5049142862720496, 0.48751147959836755, 0.48751147959836755, 0.49141877448926896, 0.5124578518149474, 0.48751147959836755, 0.5034235629629257, 0.5145518602650869, 0.48751147959836755]}, {\"categories\": [\"0\", \"6\", \"11\", \"17\", \"21\", \"22\", \"23\", \"25\", \"26\", \"28\", \"29\", \"30\", \"31\", \"32\", \"33\", \"34\", \"35\", \"36\", \"37\", \"38\", \"39\", \"40\", \"42\", \"43\", \"44\", \"46\", \"51\"], \"mode\": \"lines\", \"name\": \"f1_score_macro_max\", \"stepped\": true, \"type\": \"scatter\", \"data\": [0.5420907179610812, 0.5420907179610812, 0.5420907179610812, 0.5420907179610812, 0.5445210412919133, 0.5445210412919133, 0.5445210412919133, 0.5445210412919133, 0.5445210412919133, 0.5445210412919133, 0.5445210412919133, 0.5445210412919133, 0.5445210412919133, 0.5452869901846028, 0.5452869901846028, 0.5452869901846028, 0.5452869901846028, 0.5452869901846028, 0.5452869901846028, 0.5452869901846028, 0.5452869901846028, 0.5452869901846028, 0.5452869901846028, 0.5452869901846028, 0.5452869901846028, 0.5452869901846028, 0.5452869901846028]}]}, \"metricName\": null, \"primaryMetricName\": \"AUC_weighted\", \"showLegend\": false}, \"run_metrics\": [{\"name\": \"experiment_status\", \"run_id\": \"AutoML_f5ce51e2-e0f7-44a3-a639-235da7762a96\", \"categories\": [0, 1, 2, 3, 4, 5, 6, 7, 8, 9, 10, 11, 12, 13, 14], \"series\": [{\"data\": [\"DatasetEvaluation\", \"FeaturesGeneration\", \"DatasetFeaturization\", \"DatasetFeaturizationCompleted\", \"DatasetBalancing\", \"DatasetCrossValidationSplit\", \"ModelSelection\", \"BestRunExplainModel\", \"ModelExplanationDataSetSetup\", \"PickSurrogateModel\", \"EngineeredFeatureExplanations\", \"EngineeredFeatureExplanations\", \"RawFeaturesExplanations\", \"RawFeaturesExplanations\", \"BestRunExplainModel\"]}]}, {\"name\": \"experiment_status_description\", \"run_id\": \"AutoML_f5ce51e2-e0f7-44a3-a639-235da7762a96\", \"categories\": [0, 1, 2, 3, 4, 5, 6, 7, 8, 9, 10, 11, 12, 13, 14], \"series\": [{\"data\": [\"Gathering dataset statistics.\", \"Generating features for the dataset.\", \"Beginning to fit featurizers and featurize the dataset.\", \"Completed fit featurizers and featurizing the dataset.\", \"Performing class balancing sweeping\", \"Generating individually featurized CV splits.\", \"Beginning model selection.\", \"Best run model explanations started\", \"Model explanations data setup completed\", \"Choosing LightGBM as the surrogate model for explanations\", \"Computation of engineered features started\", \"Computation of engineered features completed\", \"Computation of raw features started\", \"Computation of raw features completed\", \"Best run model explanations completed\"]}]}, {\"name\": \"f1_score_macro\", \"run_id\": \"AutoML_f5ce51e2-e0f7-44a3-a639-235da7762a96\", \"categories\": [0], \"series\": [{\"data\": [0.48751147959836755]}]}, {\"name\": \"balanced_accuracy\", \"run_id\": \"AutoML_f5ce51e2-e0f7-44a3-a639-235da7762a96\", \"categories\": [0], \"series\": [{\"data\": [0.5]}]}, {\"name\": \"average_precision_score_micro\", \"run_id\": \"AutoML_f5ce51e2-e0f7-44a3-a639-235da7762a96\", \"categories\": [0], \"series\": [{\"data\": [0.9846208142590829]}]}, {\"name\": \"precision_score_weighted\", \"run_id\": \"AutoML_f5ce51e2-e0f7-44a3-a639-235da7762a96\", \"categories\": [0], \"series\": [{\"data\": [0.9051389656194685]}]}, {\"name\": \"weighted_accuracy\", \"run_id\": \"AutoML_f5ce51e2-e0f7-44a3-a639-235da7762a96\", \"categories\": [0], \"series\": [{\"data\": [0.9972274316215557]}]}, {\"name\": \"AUC_macro\", \"run_id\": \"AutoML_f5ce51e2-e0f7-44a3-a639-235da7762a96\", \"categories\": [0], \"series\": [{\"data\": [0.8583225346293857]}]}, {\"name\": \"accuracy\", \"run_id\": \"AutoML_f5ce51e2-e0f7-44a3-a639-235da7762a96\", \"categories\": [0], \"series\": [{\"data\": [0.9513249676398677]}]}, {\"name\": \"average_precision_score_weighted\", \"run_id\": \"AutoML_f5ce51e2-e0f7-44a3-a639-235da7762a96\", \"categories\": [0], \"series\": [{\"data\": [0.955685457023056]}]}, {\"name\": \"f1_score_micro\", \"run_id\": \"AutoML_f5ce51e2-e0f7-44a3-a639-235da7762a96\", \"categories\": [0], \"series\": [{\"data\": [0.9513249676398677]}]}, {\"name\": \"recall_score_macro\", \"run_id\": \"AutoML_f5ce51e2-e0f7-44a3-a639-235da7762a96\", \"categories\": [0], \"series\": [{\"data\": [0.5]}]}, {\"name\": \"norm_macro_recall\", \"run_id\": \"AutoML_f5ce51e2-e0f7-44a3-a639-235da7762a96\", \"categories\": [0], \"series\": [{\"data\": [0.0]}]}, {\"name\": \"f1_score_weighted\", \"run_id\": \"AutoML_f5ce51e2-e0f7-44a3-a639-235da7762a96\", \"categories\": [0], \"series\": [{\"data\": [0.9276269760830005]}]}, {\"name\": \"recall_score_micro\", \"run_id\": \"AutoML_f5ce51e2-e0f7-44a3-a639-235da7762a96\", \"categories\": [0], \"series\": [{\"data\": [0.9513249676398677]}]}, {\"name\": \"AUC_weighted\", \"run_id\": \"AutoML_f5ce51e2-e0f7-44a3-a639-235da7762a96\", \"categories\": [0], \"series\": [{\"data\": [0.8583225346293857]}]}, {\"name\": \"precision_score_macro\", \"run_id\": \"AutoML_f5ce51e2-e0f7-44a3-a639-235da7762a96\", \"categories\": [0], \"series\": [{\"data\": [0.47566248381993387]}]}, {\"name\": \"precision_score_micro\", \"run_id\": \"AutoML_f5ce51e2-e0f7-44a3-a639-235da7762a96\", \"categories\": [0], \"series\": [{\"data\": [0.9513249676398677]}]}, {\"name\": \"AUC_micro\", \"run_id\": \"AutoML_f5ce51e2-e0f7-44a3-a639-235da7762a96\", \"categories\": [0], \"series\": [{\"data\": [0.9843019579692289]}]}, {\"name\": \"average_precision_score_macro\", \"run_id\": \"AutoML_f5ce51e2-e0f7-44a3-a639-235da7762a96\", \"categories\": [0], \"series\": [{\"data\": [0.6202562776934324]}]}, {\"name\": \"recall_score_weighted\", \"run_id\": \"AutoML_f5ce51e2-e0f7-44a3-a639-235da7762a96\", \"categories\": [0], \"series\": [{\"data\": [0.9513249676398677]}]}, {\"name\": \"log_loss\", \"run_id\": \"AutoML_f5ce51e2-e0f7-44a3-a639-235da7762a96\", \"categories\": [0], \"series\": [{\"data\": [0.1658212074412489]}]}, {\"name\": \"matthews_correlation\", \"run_id\": \"AutoML_f5ce51e2-e0f7-44a3-a639-235da7762a96\", \"categories\": [0], \"series\": [{\"data\": [0.0]}]}], \"run_logs\": \"\\nRun is completed.\", \"graph\": {}, \"widget_settings\": {\"childWidgetDisplay\": \"popup\", \"send_telemetry\": false, \"log_level\": \"INFO\", \"sdk_version\": \"1.40.0\"}, \"loading\": false}"
     },
     "metadata": {},
     "output_type": "display_data"
    }
   ],
   "source": [
    "from azureml.widgets import RunDetails\n",
    "RunDetails(remote_run).show()"
   ]
  },
  {
   "cell_type": "code",
   "execution_count": 11,
   "metadata": {},
   "outputs": [
    {
     "name": "stdout",
     "output_type": "stream",
     "text": [
      "Run Status:  Completed\n"
     ]
    }
   ],
   "source": [
    "print(\"Run Status: \",remote_run.get_status())\n",
    "#Must indicate complete to indicate run has completed"
   ]
  },
  {
   "cell_type": "code",
   "execution_count": 12,
   "metadata": {},
   "outputs": [
    {
     "name": "stdout",
     "output_type": "stream",
     "text": [
      "Run(Experiment: Predictstroke_1,\n",
      "Id: AutoML_f5ce51e2-e0f7-44a3-a639-235da7762a96_50,\n",
      "Type: azureml.scriptrun,\n",
      "Status: Completed) \n",
      "********************\n",
      "\n",
      "Run(Experiment: Predictstroke_1,\n",
      "Id: AutoML_f5ce51e2-e0f7-44a3-a639-235da7762a96_51,\n",
      "Type: azureml.scriptrun,\n",
      "Status: Completed) \n",
      "********************\n",
      "\n",
      "Run(Experiment: Predictstroke_1,\n",
      "Id: AutoML_f5ce51e2-e0f7-44a3-a639-235da7762a96_48,\n",
      "Type: azureml.scriptrun,\n",
      "Status: Canceled) \n",
      "********************\n",
      "\n",
      "Run(Experiment: Predictstroke_1,\n",
      "Id: AutoML_f5ce51e2-e0f7-44a3-a639-235da7762a96_49,\n",
      "Type: azureml.scriptrun,\n",
      "Status: Canceled) \n",
      "********************\n",
      "\n",
      "Run(Experiment: Predictstroke_1,\n",
      "Id: AutoML_f5ce51e2-e0f7-44a3-a639-235da7762a96_47,\n",
      "Type: azureml.scriptrun,\n",
      "Status: Canceled) \n",
      "********************\n",
      "\n",
      "Run(Experiment: Predictstroke_1,\n",
      "Id: AutoML_f5ce51e2-e0f7-44a3-a639-235da7762a96_45,\n",
      "Type: azureml.scriptrun,\n",
      "Status: Completed) \n",
      "********************\n",
      "\n",
      "Run(Experiment: Predictstroke_1,\n",
      "Id: AutoML_f5ce51e2-e0f7-44a3-a639-235da7762a96_44,\n",
      "Type: azureml.scriptrun,\n",
      "Status: Completed) \n",
      "********************\n",
      "\n",
      "Run(Experiment: Predictstroke_1,\n",
      "Id: AutoML_f5ce51e2-e0f7-44a3-a639-235da7762a96_46,\n",
      "Type: azureml.scriptrun,\n",
      "Status: Completed) \n",
      "********************\n",
      "\n",
      "Run(Experiment: Predictstroke_1,\n",
      "Id: AutoML_f5ce51e2-e0f7-44a3-a639-235da7762a96_43,\n",
      "Type: azureml.scriptrun,\n",
      "Status: Completed) \n",
      "********************\n",
      "\n",
      "Run(Experiment: Predictstroke_1,\n",
      "Id: AutoML_f5ce51e2-e0f7-44a3-a639-235da7762a96_40,\n",
      "Type: azureml.scriptrun,\n",
      "Status: Completed) \n",
      "********************\n",
      "\n",
      "Run(Experiment: Predictstroke_1,\n",
      "Id: AutoML_f5ce51e2-e0f7-44a3-a639-235da7762a96_41,\n",
      "Type: azureml.scriptrun,\n",
      "Status: Completed) \n",
      "********************\n",
      "\n",
      "Run(Experiment: Predictstroke_1,\n",
      "Id: AutoML_f5ce51e2-e0f7-44a3-a639-235da7762a96_42,\n",
      "Type: azureml.scriptrun,\n",
      "Status: Completed) \n",
      "********************\n",
      "\n",
      "Run(Experiment: Predictstroke_1,\n",
      "Id: AutoML_f5ce51e2-e0f7-44a3-a639-235da7762a96_39,\n",
      "Type: azureml.scriptrun,\n",
      "Status: Completed) \n",
      "********************\n",
      "\n",
      "Run(Experiment: Predictstroke_1,\n",
      "Id: AutoML_f5ce51e2-e0f7-44a3-a639-235da7762a96_38,\n",
      "Type: azureml.scriptrun,\n",
      "Status: Completed) \n",
      "********************\n",
      "\n",
      "Run(Experiment: Predictstroke_1,\n",
      "Id: AutoML_f5ce51e2-e0f7-44a3-a639-235da7762a96_37,\n",
      "Type: azureml.scriptrun,\n",
      "Status: Completed) \n",
      "********************\n",
      "\n",
      "Run(Experiment: Predictstroke_1,\n",
      "Id: AutoML_f5ce51e2-e0f7-44a3-a639-235da7762a96_36,\n",
      "Type: azureml.scriptrun,\n",
      "Status: Completed) \n",
      "********************\n",
      "\n",
      "Run(Experiment: Predictstroke_1,\n",
      "Id: AutoML_f5ce51e2-e0f7-44a3-a639-235da7762a96_35,\n",
      "Type: azureml.scriptrun,\n",
      "Status: Completed) \n",
      "********************\n",
      "\n",
      "Run(Experiment: Predictstroke_1,\n",
      "Id: AutoML_f5ce51e2-e0f7-44a3-a639-235da7762a96_34,\n",
      "Type: azureml.scriptrun,\n",
      "Status: Completed) \n",
      "********************\n",
      "\n",
      "Run(Experiment: Predictstroke_1,\n",
      "Id: AutoML_f5ce51e2-e0f7-44a3-a639-235da7762a96_33,\n",
      "Type: azureml.scriptrun,\n",
      "Status: Completed) \n",
      "********************\n",
      "\n",
      "Run(Experiment: Predictstroke_1,\n",
      "Id: AutoML_f5ce51e2-e0f7-44a3-a639-235da7762a96_32,\n",
      "Type: azureml.scriptrun,\n",
      "Status: Completed) \n",
      "********************\n",
      "\n",
      "Run(Experiment: Predictstroke_1,\n",
      "Id: AutoML_f5ce51e2-e0f7-44a3-a639-235da7762a96_31,\n",
      "Type: azureml.scriptrun,\n",
      "Status: Completed) \n",
      "********************\n",
      "\n",
      "Run(Experiment: Predictstroke_1,\n",
      "Id: AutoML_f5ce51e2-e0f7-44a3-a639-235da7762a96_30,\n",
      "Type: azureml.scriptrun,\n",
      "Status: Completed) \n",
      "********************\n",
      "\n",
      "Run(Experiment: Predictstroke_1,\n",
      "Id: AutoML_f5ce51e2-e0f7-44a3-a639-235da7762a96_29,\n",
      "Type: azureml.scriptrun,\n",
      "Status: Completed) \n",
      "********************\n",
      "\n",
      "Run(Experiment: Predictstroke_1,\n",
      "Id: AutoML_f5ce51e2-e0f7-44a3-a639-235da7762a96_28,\n",
      "Type: azureml.scriptrun,\n",
      "Status: Completed) \n",
      "********************\n",
      "\n",
      "Run(Experiment: Predictstroke_1,\n",
      "Id: AutoML_f5ce51e2-e0f7-44a3-a639-235da7762a96_27,\n",
      "Type: azureml.scriptrun,\n",
      "Status: Completed) \n",
      "********************\n",
      "\n",
      "Run(Experiment: Predictstroke_1,\n",
      "Id: AutoML_f5ce51e2-e0f7-44a3-a639-235da7762a96_26,\n",
      "Type: azureml.scriptrun,\n",
      "Status: Completed) \n",
      "********************\n",
      "\n",
      "Run(Experiment: Predictstroke_1,\n",
      "Id: AutoML_f5ce51e2-e0f7-44a3-a639-235da7762a96_25,\n",
      "Type: azureml.scriptrun,\n",
      "Status: Completed) \n",
      "********************\n",
      "\n",
      "Run(Experiment: Predictstroke_1,\n",
      "Id: AutoML_f5ce51e2-e0f7-44a3-a639-235da7762a96_24,\n",
      "Type: azureml.scriptrun,\n",
      "Status: Completed) \n",
      "********************\n",
      "\n",
      "Run(Experiment: Predictstroke_1,\n",
      "Id: AutoML_f5ce51e2-e0f7-44a3-a639-235da7762a96_23,\n",
      "Type: azureml.scriptrun,\n",
      "Status: Completed) \n",
      "********************\n",
      "\n",
      "Run(Experiment: Predictstroke_1,\n",
      "Id: AutoML_f5ce51e2-e0f7-44a3-a639-235da7762a96_22,\n",
      "Type: azureml.scriptrun,\n",
      "Status: Completed) \n",
      "********************\n",
      "\n",
      "Run(Experiment: Predictstroke_1,\n",
      "Id: AutoML_f5ce51e2-e0f7-44a3-a639-235da7762a96_20,\n",
      "Type: azureml.scriptrun,\n",
      "Status: Completed) \n",
      "********************\n",
      "\n",
      "Run(Experiment: Predictstroke_1,\n",
      "Id: AutoML_f5ce51e2-e0f7-44a3-a639-235da7762a96_19,\n",
      "Type: None,\n",
      "Status: Completed) \n",
      "********************\n",
      "\n",
      "Run(Experiment: Predictstroke_1,\n",
      "Id: AutoML_f5ce51e2-e0f7-44a3-a639-235da7762a96_21,\n",
      "Type: azureml.scriptrun,\n",
      "Status: Completed) \n",
      "********************\n",
      "\n",
      "Run(Experiment: Predictstroke_1,\n",
      "Id: AutoML_f5ce51e2-e0f7-44a3-a639-235da7762a96_18,\n",
      "Type: None,\n",
      "Status: Completed) \n",
      "********************\n",
      "\n",
      "Run(Experiment: Predictstroke_1,\n",
      "Id: AutoML_f5ce51e2-e0f7-44a3-a639-235da7762a96_14,\n",
      "Type: None,\n",
      "Status: Completed) \n",
      "********************\n",
      "\n",
      "Run(Experiment: Predictstroke_1,\n",
      "Id: AutoML_f5ce51e2-e0f7-44a3-a639-235da7762a96_13,\n",
      "Type: None,\n",
      "Status: Completed) \n",
      "********************\n",
      "\n",
      "Run(Experiment: Predictstroke_1,\n",
      "Id: AutoML_f5ce51e2-e0f7-44a3-a639-235da7762a96_17,\n",
      "Type: None,\n",
      "Status: Completed) \n",
      "********************\n",
      "\n",
      "Run(Experiment: Predictstroke_1,\n",
      "Id: AutoML_f5ce51e2-e0f7-44a3-a639-235da7762a96_12,\n",
      "Type: None,\n",
      "Status: Completed) \n",
      "********************\n",
      "\n",
      "Run(Experiment: Predictstroke_1,\n",
      "Id: AutoML_f5ce51e2-e0f7-44a3-a639-235da7762a96_16,\n",
      "Type: None,\n",
      "Status: Completed) \n",
      "********************\n",
      "\n",
      "Run(Experiment: Predictstroke_1,\n",
      "Id: AutoML_f5ce51e2-e0f7-44a3-a639-235da7762a96_11,\n",
      "Type: None,\n",
      "Status: Completed) \n",
      "********************\n",
      "\n",
      "Run(Experiment: Predictstroke_1,\n",
      "Id: AutoML_f5ce51e2-e0f7-44a3-a639-235da7762a96_15,\n",
      "Type: None,\n",
      "Status: Completed) \n",
      "********************\n",
      "\n",
      "Run(Experiment: Predictstroke_1,\n",
      "Id: AutoML_f5ce51e2-e0f7-44a3-a639-235da7762a96_10,\n",
      "Type: None,\n",
      "Status: Completed) \n",
      "********************\n",
      "\n",
      "Run(Experiment: Predictstroke_1,\n",
      "Id: AutoML_f5ce51e2-e0f7-44a3-a639-235da7762a96_9,\n",
      "Type: None,\n",
      "Status: Completed) \n",
      "********************\n",
      "\n",
      "Run(Experiment: Predictstroke_1,\n",
      "Id: AutoML_f5ce51e2-e0f7-44a3-a639-235da7762a96_8,\n",
      "Type: None,\n",
      "Status: Completed) \n",
      "********************\n",
      "\n",
      "Run(Experiment: Predictstroke_1,\n",
      "Id: AutoML_f5ce51e2-e0f7-44a3-a639-235da7762a96_7,\n",
      "Type: None,\n",
      "Status: Completed) \n",
      "********************\n",
      "\n",
      "Run(Experiment: Predictstroke_1,\n",
      "Id: AutoML_f5ce51e2-e0f7-44a3-a639-235da7762a96_6,\n",
      "Type: None,\n",
      "Status: Completed) \n",
      "********************\n",
      "\n",
      "Run(Experiment: Predictstroke_1,\n",
      "Id: AutoML_f5ce51e2-e0f7-44a3-a639-235da7762a96_worker_3,\n",
      "Type: azureml.scriptrun,\n",
      "Status: Completed) \n",
      "********************\n",
      "\n",
      "Run(Experiment: Predictstroke_1,\n",
      "Id: AutoML_f5ce51e2-e0f7-44a3-a639-235da7762a96_worker_2,\n",
      "Type: azureml.scriptrun,\n",
      "Status: Completed) \n",
      "********************\n",
      "\n",
      "Run(Experiment: Predictstroke_1,\n",
      "Id: AutoML_f5ce51e2-e0f7-44a3-a639-235da7762a96_5,\n",
      "Type: None,\n",
      "Status: Completed) \n",
      "********************\n",
      "\n",
      "Run(Experiment: Predictstroke_1,\n",
      "Id: AutoML_f5ce51e2-e0f7-44a3-a639-235da7762a96_worker_1,\n",
      "Type: azureml.scriptrun,\n",
      "Status: Completed) \n",
      "********************\n",
      "\n",
      "Run(Experiment: Predictstroke_1,\n",
      "Id: AutoML_f5ce51e2-e0f7-44a3-a639-235da7762a96_4,\n",
      "Type: None,\n",
      "Status: Completed) \n",
      "********************\n",
      "\n",
      "Run(Experiment: Predictstroke_1,\n",
      "Id: AutoML_f5ce51e2-e0f7-44a3-a639-235da7762a96_3,\n",
      "Type: None,\n",
      "Status: Completed) \n",
      "********************\n",
      "\n",
      "Run(Experiment: Predictstroke_1,\n",
      "Id: AutoML_f5ce51e2-e0f7-44a3-a639-235da7762a96_2,\n",
      "Type: None,\n",
      "Status: Completed) \n",
      "********************\n",
      "\n",
      "Run(Experiment: Predictstroke_1,\n",
      "Id: AutoML_f5ce51e2-e0f7-44a3-a639-235da7762a96_1,\n",
      "Type: None,\n",
      "Status: Completed) \n",
      "********************\n",
      "\n",
      "Run(Experiment: Predictstroke_1,\n",
      "Id: AutoML_f5ce51e2-e0f7-44a3-a639-235da7762a96_0,\n",
      "Type: None,\n",
      "Status: Completed) \n",
      "********************\n",
      "\n",
      "Run(Experiment: Predictstroke_1,\n",
      "Id: AutoML_f5ce51e2-e0f7-44a3-a639-235da7762a96_worker_0,\n",
      "Type: azureml.scriptrun,\n",
      "Status: Completed) \n",
      "********************\n",
      "\n",
      "Run(Experiment: Predictstroke_1,\n",
      "Id: AutoML_f5ce51e2-e0f7-44a3-a639-235da7762a96_featurize,\n",
      "Type: automl.featurization,\n",
      "Status: Completed) \n",
      "********************\n",
      "\n",
      "Run(Experiment: Predictstroke_1,\n",
      "Id: AutoML_f5ce51e2-e0f7-44a3-a639-235da7762a96_setup,\n",
      "Type: azureml.scriptrun,\n",
      "Status: Completed) \n",
      "********************\n",
      "\n"
     ]
    }
   ],
   "source": [
    " \n",
    "for child_run in remote_run.get_children():\n",
    "    print(child_run,\"\\n********************\\n\")\n",
    "    "
   ]
  },
  {
   "cell_type": "markdown",
   "metadata": {},
   "source": [
    "## Best Model\n",
    "\n",
    "TODO: In the cell below, get the best model from the automl experiments and display all the properties of the model.\n",
    "\n"
   ]
  },
  {
   "cell_type": "code",
   "execution_count": 151,
   "metadata": {
    "gather": {
     "logged": 1598431425670
    },
    "jupyter": {
     "outputs_hidden": false,
     "source_hidden": false
    },
    "nteract": {
     "transient": {
      "deleting": false
     }
    }
   },
   "outputs": [
    {
     "name": "stderr",
     "output_type": "stream",
     "text": [
      "WARNING:root:The version of the SDK does not match the version the model was trained on.\n",
      "WARNING:root:The consistency in the result may not be guaranteed.\n",
      "WARNING:root:Package:azureml-automl-core, training version:1.44.0, current version:1.40.0\n",
      "Package:azureml-automl-runtime, training version:1.44.0, current version:1.40.0\n",
      "Package:azureml-core, training version:1.44.0, current version:1.40.0\n",
      "Package:azureml-dataprep, training version:4.2.2, current version:3.0.0\n",
      "Package:azureml-dataprep-rslex, training version:2.8.1, current version:2.4.0\n",
      "Package:azureml-dataset-runtime, training version:1.44.0, current version:1.40.0\n",
      "Package:azureml-defaults, training version:1.44.0, current version:1.40.0\n",
      "Package:azureml-inference-server-http, training version:0.7.4, current version:0.4.11\n",
      "Package:azureml-interpret, training version:1.44.0, current version:1.40.0\n",
      "Package:azureml-mlflow, training version:1.44.0, current version:1.40.0\n",
      "Package:azureml-pipeline-core, training version:1.44.0, current version:1.40.0\n",
      "Package:azureml-responsibleai, training version:1.44.0, current version:1.40.0\n",
      "Package:azureml-telemetry, training version:1.44.0, current version:1.40.0\n",
      "Package:azureml-train-automl-client, training version:1.44.0, current version:1.40.0\n",
      "Package:azureml-train-automl-runtime, training version:1.44.0, current version:1.40.0.post1\n",
      "Package:azureml-train-core, training version:1.44.0, current version:1.40.0\n",
      "Package:azureml-train-restclients-hyperdrive, training version:1.44.0, current version:1.40.0\n",
      "Package:azureml-training-tabular, training version:1.44.0, current version:1.40.0\n",
      "WARNING:root:Please ensure the version of your local conda dependencies match the version on which your model was trained in order to properly retrieve your model.\n"
     ]
    }
   ],
   "source": [
    "best_child_run,fitted_model = remote_run.get_output()\n",
    " \n"
   ]
  },
  {
   "cell_type": "code",
   "execution_count": 153,
   "metadata": {},
   "outputs": [],
   "source": [
    "best_run_metrics=best_child_run.get_metrics()\n"
   ]
  },
  {
   "cell_type": "code",
   "execution_count": 154,
   "metadata": {},
   "outputs": [
    {
     "data": {
      "text/html": [
       "<table style=\"width:100%\"><tr><th>Experiment</th><th>Id</th><th>Type</th><th>Status</th><th>Details Page</th><th>Docs Page</th></tr><tr><td>Predictstroke_1</td><td>AutoML_f5ce51e2-e0f7-44a3-a639-235da7762a96_50</td><td>azureml.scriptrun</td><td>Completed</td><td><a href=\"https://ml.azure.com/runs/AutoML_f5ce51e2-e0f7-44a3-a639-235da7762a96_50?wsid=/subscriptions/16bc73b5-82be-47f2-b5ab-f2373344794c/resourcegroups/kalakkad-ddl/workspaces/epe-venkat-aiml&amp;tid=db05faca-c82a-4b9d-b9c5-0f64b6755421\" target=\"_blank\" rel=\"noopener\">Link to Azure Machine Learning studio</a></td><td><a href=\"https://docs.microsoft.com/en-us/python/api/azureml-core/azureml.core.run.Run?view=azure-ml-py\" target=\"_blank\" rel=\"noopener\">Link to Documentation</a></td></tr></table>"
      ],
      "text/plain": [
       "Run(Experiment: Predictstroke_1,\n",
       "Id: AutoML_f5ce51e2-e0f7-44a3-a639-235da7762a96_50,\n",
       "Type: azureml.scriptrun,\n",
       "Status: Completed)"
      ]
     },
     "execution_count": 154,
     "metadata": {},
     "output_type": "execute_result"
    }
   ],
   "source": [
    "best_child_run"
   ]
  },
  {
   "cell_type": "code",
   "execution_count": 155,
   "metadata": {},
   "outputs": [
    {
     "data": {
      "text/plain": [
       "Pipeline(memory=None,\n",
       "         steps=[('datatransformer',\n",
       "                 DataTransformer(enable_dnn=False, enable_feature_sweeping=True, feature_sweeping_config={}, feature_sweeping_timeout=86400, featurization_config=None, force_text_dnn=False, is_cross_validation=True, is_onnx_compatible=False, observer=None, task='classification', working_dir='/mnt/batch/tasks/shared/LS_root/mount...\n",
       "                 PreFittedSoftVotingClassifier(classification_labels=array([0, 1]), estimators=[('34', Pipeline(memory=None, steps=[('standardscalerwrapper', StandardScalerWrapper(copy=True, with_mean=False, with_std=True)), ('lightgbmclassifier', LightGBMClassifier(boosting_type='gbdt', colsample_bytree=0.7922222222222222, learning_rate=0.03158578947368421, max_bin=210, max_depth=3, min_child_weight=2, min_data_in_leaf=0.003457931034482759, min_split_gain=0.894736842105263, n_estimators=600, n_jobs=1, num_leaves=239, problem_info=ProblemInfo(gpu_training_param_dict={'processing_unit_type': 'cpu'}), random_state=None, reg_alpha=0.42105263157894735, reg_lambda=0.5263157894736842, subsample=0.05))], verbose=False)), ('28', Pipeline(memory=None, steps=[('maxabsscaler', MaxAbsScaler(copy=True)), ('lightgbmclassifier', LightGBMClassifier(boosting_type='gbdt', colsample_bytree=0.8911111111111111, learning_rate=0.05263631578947369, max_bin=110, max_depth=4, min_child_weight=8, min_data_in_leaf=0.010353793103448278, min_split_gain=0.5263157894736842, n_estimators=200, n_jobs=1, num_leaves=215, problem_info=ProblemInfo(gpu_training_param_dict={'processing_unit_type': 'cpu'}), random_state=None, reg_alpha=0, reg_lambda=0.2631578947368421, subsample=0.3468421052631579))], verbose=False)), ('39', Pipeline(memory=None, steps=[('maxabsscaler', MaxAbsScaler(copy=True)), ('lightgbmclassifier', LightGBMClassifier(boosting_type='gbdt', colsample_bytree=0.99, learning_rate=0.1, max_bin=230, max_depth=6, min_child_weight=8, min_data_in_leaf=0.041385172413793116, min_split_gain=0.7894736842105263, n_estimators=100, n_jobs=1, num_leaves=161, problem_info=ProblemInfo(gpu_training_param_dict={'processing_unit_type': 'cpu'}), random_state=None, reg_alpha=0.3684210526315789, reg_lambda=0.6842105263157894, subsample=0.49526315789473685))], verbose=False)), ('41', Pipeline(memory=None, steps=[('maxabsscaler', MaxAbsScaler(copy=True)), ('lightgbmclassifier', LightGBMClassifier(boosting_type='goss', colsample_bytree=0.7922222222222222, learning_rate=0.04737368421052632, max_bin=70, max_depth=8, min_child_weight=7, min_data_in_leaf=0.020697586206896556, min_split_gain=0.894736842105263, n_estimators=25, n_jobs=1, num_leaves=65, problem_info=ProblemInfo(gpu_training_param_dict={'processing_unit_type': 'cpu'}), random_state=None, reg_alpha=0.21052631578947367, reg_lambda=0.6842105263157894, subsample=1))], verbose=False)), ('17', Pipeline(memory=None, steps=[('standardscalerwrapper', StandardScalerWrapper(copy=True, with_mean=False, with_std=True)), ('extratreesclassifier', ExtraTreesClassifier(bootstrap=False, ccp_alpha=0.0, class_weight='balanced', criterion='gini', max_depth=None, max_features=None, max_leaf_nodes=None, max_samples=None, min_impurity_decrease=0.0, min_impurity_split=None, min_samples_leaf=0.01, min_samples_split=0.056842105263157895, min_weight_fraction_leaf=0.0, n_estimators=200, n_jobs=1, oob_score=False, random_state=None, verbose=0, warm_start=False))], verbose=False)), ('13', Pipeline(memory=None, steps=[('standardscalerwrapper', StandardScalerWrapper(copy=True, with_mean=False, with_std=False)), ('extratreesclassifier', ExtraTreesClassifier(bootstrap=False, ccp_alpha=0.0, class_weight=None, criterion='entropy', max_depth=None, max_features=0.05, max_leaf_nodes=None, max_samples=None, min_impurity_decrease=0.0, min_impurity_split=None, min_samples_leaf=0.01, min_samples_split=0.01, min_weight_fraction_leaf=0.0, n_estimators=25, n_jobs=1, oob_score=False, random_state=None, verbose=0, warm_start=False))], verbose=False)), ('26', Pipeline(memory=None, steps=[('sparsenormalizer', Normalizer(copy=True, norm='l1')), ('xgboostclassifier', XGBoostClassifier(booster='gbtree', colsample_bytree=0.6, eta=0.1, gamma=10, max_depth=9, max_leaves=511, n_estimators=100, n_jobs=1, objective='reg:logistic', problem_info=ProblemInfo(gpu_training_param_dict={'processing_unit_type': 'cpu'}), random_state=0, reg_alpha=0, reg_lambda=0.9375, subsample=1, tree_method='auto'))], verbose=False)), ('21', Pipeline(memory=None, steps=[('standardscalerwrapper', StandardScalerWrapper(copy=True, with_mean=False, with_std=False)), ('xgboostclassifier', XGBoostClassifier(booster='gbtree', colsample_bytree=1, eta=0.2, gamma=0, max_depth=8, max_leaves=127, n_estimators=10, n_jobs=1, objective='reg:logistic', problem_info=ProblemInfo(gpu_training_param_dict={'processing_unit_type': 'cpu'}), random_state=0, reg_alpha=0, reg_lambda=1.5625, subsample=0.6, tree_method='auto'))], verbose=False)), ('27', Pipeline(memory=None, steps=[('sparsenormalizer', Normalizer(copy=True, norm='max')), ('xgboostclassifier', XGBoostClassifier(booster='gbtree', colsample_bytree=0.5, eta=0.3, gamma=1, max_depth=6, max_leaves=0, n_estimators=25, n_jobs=1, objective='reg:logistic', problem_info=ProblemInfo(gpu_training_param_dict={'processing_unit_type': 'cpu'}), random_state=0, reg_alpha=1.875, reg_lambda=1.0416666666666667, subsample=0.5, tree_method='auto'))], verbose=False)), ('19', Pipeline(memory=None, steps=[('maxabsscaler', MaxAbsScaler(copy=True)), ('extratreesclassifier', ExtraTreesClassifier(bootstrap=False, ccp_alpha=0.0, class_weight=None, criterion='entropy', max_depth=None, max_features=0.05, max_leaf_nodes=None, max_samples=None, min_impurity_decrease=0.0, min_impurity_split=None, min_samples_leaf=0.01, min_samples_split=0.01, min_weight_fraction_leaf=0.0, n_estimators=100, n_jobs=1, oob_score=False, random_state=None, verbose=0, warm_start=False))], verbose=False)), ('31', Pipeline(memory=None, steps=[('sparsenormalizer', Normalizer(copy=True, norm='l1')), ('lightgbmclassifier', LightGBMClassifier(boosting_type='gbdt', colsample_bytree=0.8911111111111111, learning_rate=0.05789894736842106, max_bin=30, max_depth=7, min_child_weight=8, min_data_in_leaf=0.08276034482758622, min_split_gain=0, n_estimators=400, n_jobs=1, num_leaves=116, problem_info=ProblemInfo(gpu_training_param_dict={'processing_unit_type': 'cpu'}), random_state=None, reg_alpha=0.47368421052631576, reg_lambda=0, subsample=0.29736842105263156))], verbose=False))], flatten_transform=None, weights=[0.07142857142857142, 0.07142857142857142, 0.07142857142857142, 0.07142857142857142, 0.07142857142857142, 0.21428571428571427, 0.07142857142857142, 0.14285714285714285, 0.07142857142857142, 0.07142857142857142, 0.07142857142857142]))],\n",
       "         verbose=False)"
      ]
     },
     "execution_count": 155,
     "metadata": {},
     "output_type": "execute_result"
    }
   ],
   "source": [
    "fitted_model"
   ]
  },
  {
   "cell_type": "code",
   "execution_count": 157,
   "metadata": {},
   "outputs": [],
   "source": [
    "os.makedirs('./outputs',exist_ok=True)"
   ]
  },
  {
   "cell_type": "code",
   "execution_count": 169,
   "metadata": {},
   "outputs": [
    {
     "data": {
      "text/plain": [
       "['outputs/automl.joblib']"
      ]
     },
     "execution_count": 169,
     "metadata": {},
     "output_type": "execute_result"
    }
   ],
   "source": [
    "#TODO: Save the best model\n",
    "import joblib\n",
    "joblib.dump(fitted_model,filename= \"outputs/automl.joblib\")"
   ]
  },
  {
   "cell_type": "code",
   "execution_count": 170,
   "metadata": {},
   "outputs": [
    {
     "data": {
      "text/plain": [
       "'AutoMLf5ce51e2e50'"
      ]
     },
     "execution_count": 170,
     "metadata": {},
     "output_type": "execute_result"
    }
   ],
   "source": [
    "modelname =  best_child_run.properties['model_name']\n",
    "modelname"
   ]
  },
  {
   "cell_type": "code",
   "execution_count": 171,
   "metadata": {},
   "outputs": [
    {
     "name": "stdout",
     "output_type": "stream",
     "text": [
      "/mnt/batch/tasks/shared/LS_root/mounts/clusters/nanokal/code/Users/vkalakk1/Assignment3\n"
     ]
    }
   ],
   "source": [
    "print(os.getcwd())"
   ]
  },
  {
   "cell_type": "code",
   "execution_count": 172,
   "metadata": {},
   "outputs": [
    {
     "name": "stdout",
     "output_type": "stream",
     "text": [
      "Pipeline(memory=None,\n",
      "         steps=[('datatransformer',\n",
      "                 DataTransformer(enable_dnn=False, enable_feature_sweeping=True, feature_sweeping_config={}, feature_sweeping_timeout=86400, featurization_config=None, force_text_dnn=False, is_cross_validation=True, is_onnx_compatible=False, observer=None, task='classification', working_dir='/mnt/batch/tasks/shared/LS_root/mount...\n",
      "                 PreFittedSoftVotingClassifier(classification_labels=array([0, 1]), estimators=[('34', Pipeline(memory=None, steps=[('standardscalerwrapper', StandardScalerWrapper(copy=True, with_mean=False, with_std=True)), ('lightgbmclassifier', LightGBMClassifier(boosting_type='gbdt', colsample_bytree=0.7922222222222222, learning_rate=0.03158578947368421, max_bin=210, max_depth=3, min_child_weight=2, min_data_in_leaf=0.003457931034482759, min_split_gain=0.894736842105263, n_estimators=600, n_jobs=1, num_leaves=239, problem_info=ProblemInfo(gpu_training_param_dict={'processing_unit_type': 'cpu'}), random_state=None, reg_alpha=0.42105263157894735, reg_lambda=0.5263157894736842, subsample=0.05))], verbose=False)), ('28', Pipeline(memory=None, steps=[('maxabsscaler', MaxAbsScaler(copy=True)), ('lightgbmclassifier', LightGBMClassifier(boosting_type='gbdt', colsample_bytree=0.8911111111111111, learning_rate=0.05263631578947369, max_bin=110, max_depth=4, min_child_weight=8, min_data_in_leaf=0.010353793103448278, min_split_gain=0.5263157894736842, n_estimators=200, n_jobs=1, num_leaves=215, problem_info=ProblemInfo(gpu_training_param_dict={'processing_unit_type': 'cpu'}), random_state=None, reg_alpha=0, reg_lambda=0.2631578947368421, subsample=0.3468421052631579))], verbose=False)), ('39', Pipeline(memory=None, steps=[('maxabsscaler', MaxAbsScaler(copy=True)), ('lightgbmclassifier', LightGBMClassifier(boosting_type='gbdt', colsample_bytree=0.99, learning_rate=0.1, max_bin=230, max_depth=6, min_child_weight=8, min_data_in_leaf=0.041385172413793116, min_split_gain=0.7894736842105263, n_estimators=100, n_jobs=1, num_leaves=161, problem_info=ProblemInfo(gpu_training_param_dict={'processing_unit_type': 'cpu'}), random_state=None, reg_alpha=0.3684210526315789, reg_lambda=0.6842105263157894, subsample=0.49526315789473685))], verbose=False)), ('41', Pipeline(memory=None, steps=[('maxabsscaler', MaxAbsScaler(copy=True)), ('lightgbmclassifier', LightGBMClassifier(boosting_type='goss', colsample_bytree=0.7922222222222222, learning_rate=0.04737368421052632, max_bin=70, max_depth=8, min_child_weight=7, min_data_in_leaf=0.020697586206896556, min_split_gain=0.894736842105263, n_estimators=25, n_jobs=1, num_leaves=65, problem_info=ProblemInfo(gpu_training_param_dict={'processing_unit_type': 'cpu'}), random_state=None, reg_alpha=0.21052631578947367, reg_lambda=0.6842105263157894, subsample=1))], verbose=False)), ('17', Pipeline(memory=None, steps=[('standardscalerwrapper', StandardScalerWrapper(copy=True, with_mean=False, with_std=True)), ('extratreesclassifier', ExtraTreesClassifier(bootstrap=False, ccp_alpha=0.0, class_weight='balanced', criterion='gini', max_depth=None, max_features=None, max_leaf_nodes=None, max_samples=None, min_impurity_decrease=0.0, min_impurity_split=None, min_samples_leaf=0.01, min_samples_split=0.056842105263157895, min_weight_fraction_leaf=0.0, n_estimators=200, n_jobs=1, oob_score=False, random_state=None, verbose=0, warm_start=False))], verbose=False)), ('13', Pipeline(memory=None, steps=[('standardscalerwrapper', StandardScalerWrapper(copy=True, with_mean=False, with_std=False)), ('extratreesclassifier', ExtraTreesClassifier(bootstrap=False, ccp_alpha=0.0, class_weight=None, criterion='entropy', max_depth=None, max_features=0.05, max_leaf_nodes=None, max_samples=None, min_impurity_decrease=0.0, min_impurity_split=None, min_samples_leaf=0.01, min_samples_split=0.01, min_weight_fraction_leaf=0.0, n_estimators=25, n_jobs=1, oob_score=False, random_state=None, verbose=0, warm_start=False))], verbose=False)), ('26', Pipeline(memory=None, steps=[('sparsenormalizer', Normalizer(copy=True, norm='l1')), ('xgboostclassifier', XGBoostClassifier(booster='gbtree', colsample_bytree=0.6, eta=0.1, gamma=10, max_depth=9, max_leaves=511, n_estimators=100, n_jobs=1, objective='reg:logistic', problem_info=ProblemInfo(gpu_training_param_dict={'processing_unit_type': 'cpu'}), random_state=0, reg_alpha=0, reg_lambda=0.9375, subsample=1, tree_method='auto'))], verbose=False)), ('21', Pipeline(memory=None, steps=[('standardscalerwrapper', StandardScalerWrapper(copy=True, with_mean=False, with_std=False)), ('xgboostclassifier', XGBoostClassifier(booster='gbtree', colsample_bytree=1, eta=0.2, gamma=0, max_depth=8, max_leaves=127, n_estimators=10, n_jobs=1, objective='reg:logistic', problem_info=ProblemInfo(gpu_training_param_dict={'processing_unit_type': 'cpu'}), random_state=0, reg_alpha=0, reg_lambda=1.5625, subsample=0.6, tree_method='auto'))], verbose=False)), ('27', Pipeline(memory=None, steps=[('sparsenormalizer', Normalizer(copy=True, norm='max')), ('xgboostclassifier', XGBoostClassifier(booster='gbtree', colsample_bytree=0.5, eta=0.3, gamma=1, max_depth=6, max_leaves=0, n_estimators=25, n_jobs=1, objective='reg:logistic', problem_info=ProblemInfo(gpu_training_param_dict={'processing_unit_type': 'cpu'}), random_state=0, reg_alpha=1.875, reg_lambda=1.0416666666666667, subsample=0.5, tree_method='auto'))], verbose=False)), ('19', Pipeline(memory=None, steps=[('maxabsscaler', MaxAbsScaler(copy=True)), ('extratreesclassifier', ExtraTreesClassifier(bootstrap=False, ccp_alpha=0.0, class_weight=None, criterion='entropy', max_depth=None, max_features=0.05, max_leaf_nodes=None, max_samples=None, min_impurity_decrease=0.0, min_impurity_split=None, min_samples_leaf=0.01, min_samples_split=0.01, min_weight_fraction_leaf=0.0, n_estimators=100, n_jobs=1, oob_score=False, random_state=None, verbose=0, warm_start=False))], verbose=False)), ('31', Pipeline(memory=None, steps=[('sparsenormalizer', Normalizer(copy=True, norm='l1')), ('lightgbmclassifier', LightGBMClassifier(boosting_type='gbdt', colsample_bytree=0.8911111111111111, learning_rate=0.05789894736842106, max_bin=30, max_depth=7, min_child_weight=8, min_data_in_leaf=0.08276034482758622, min_split_gain=0, n_estimators=400, n_jobs=1, num_leaves=116, problem_info=ProblemInfo(gpu_training_param_dict={'processing_unit_type': 'cpu'}), random_state=None, reg_alpha=0.47368421052631576, reg_lambda=0, subsample=0.29736842105263156))], verbose=False))], flatten_transform=None, weights=[0.07142857142857142, 0.07142857142857142, 0.07142857142857142, 0.07142857142857142, 0.07142857142857142, 0.21428571428571427, 0.07142857142857142, 0.14285714285714285, 0.07142857142857142, 0.07142857142857142, 0.07142857142857142]))],\n",
      "         verbose=False)\n"
     ]
    }
   ],
   "source": [
    "print(fitted_model)"
   ]
  },
  {
   "cell_type": "code",
   "execution_count": 163,
   "metadata": {},
   "outputs": [],
   "source": [
    "from azureml.core.model import Model\n",
    "reg_model = remote_run.register_model(model_name = modelname, description=\"strokepredict_new\")"
   ]
  },
  {
   "cell_type": "code",
   "execution_count": 178,
   "metadata": {},
   "outputs": [],
   "source": [
    "from azureml.automl.core.shared import constants\n",
    "env = best_child_run.get_environment()\n",
    "script_file = \"./outputs/score.py\"\n",
    "\n",
    "best_child_run.download_file('outputs/scoring_file_v_1_0_0.py', script_file)\n",
    "best_child_run.download_file(constants.CONDA_ENV_FILE_PATH, 'env.yml')\n"
   ]
  },
  {
   "cell_type": "markdown",
   "metadata": {},
   "source": [
    "## Model Deployment\n",
    "\n",
    "Remember you have to deploy only one of the two models you trained but you still need to register both the models. Perform the steps in the rest of this notebook only if you wish to deploy this model.\n",
    "\n",
    "TODO: In the cell below, register the model, create an inference config and deploy the model as a web service."
   ]
  },
  {
   "cell_type": "code",
   "execution_count": 179,
   "metadata": {},
   "outputs": [],
   "source": [
    "from azureml.core.model import InferenceConfig\n",
    "from azureml.core.webservice import AciWebservice\n",
    "from azureml.core.webservice import Webservice\n",
    "from azureml.core.environment import Environment\n",
    "from azureml.core.conda_dependencies import CondaDependencies\n",
    "from azureml.automl.core.shared import constants"
   ]
  },
  {
   "cell_type": "code",
   "execution_count": 180,
   "metadata": {},
   "outputs": [
    {
     "name": "stdout",
     "output_type": "stream",
     "text": [
      "azstrokepredict\n"
     ]
    }
   ],
   "source": [
    "servicename = 'azstrokepredict'\n",
    "print(servicename)"
   ]
  },
  {
   "cell_type": "code",
   "execution_count": null,
   "metadata": {},
   "outputs": [],
   "source": [
    "\n",
    "\n",
    " "
   ]
  },
  {
   "cell_type": "code",
   "execution_count": 181,
   "metadata": {},
   "outputs": [],
   "source": [
    "#Create Inference Config\n",
    "inference_config = InferenceConfig(entry_script = script_file, environment=env)\n"
   ]
  },
  {
   "cell_type": "code",
   "execution_count": 182,
   "metadata": {
    "gather": {
     "logged": 1598432707604
    },
    "jupyter": {
     "outputs_hidden": false,
     "source_hidden": false
    },
    "nteract": {
     "transient": {
      "deleting": false
     }
    }
   },
   "outputs": [],
   "source": [
    "\n",
    "aciconfig = AciWebservice.deploy_configuration(cpu_cores = 1, \n",
    "                                               memory_gb = 1, \n",
    "                                               enable_app_insights = True,\n",
    "                                               description =\"PredictStroke\")"
   ]
  },
  {
   "cell_type": "code",
   "execution_count": 183,
   "metadata": {
    "jupyter": {
     "outputs_hidden": false,
     "source_hidden": false
    },
    "nteract": {
     "transient": {
      "deleting": false
     }
    }
   },
   "outputs": [
    {
     "name": "stdout",
     "output_type": "stream",
     "text": [
      "Tips: You can try get_logs(): https://aka.ms/debugimage#dockerlog or local deployment: https://aka.ms/debugimage#debug-locally to debug if deployment takes longer than 10 minutes.\n",
      "Running\n",
      "2022-08-17 20:20:06+00:00 Creating Container Registry if not exists.\n",
      "2022-08-17 20:20:06+00:00 Registering the environment.\n",
      "2022-08-17 20:20:07+00:00 Use the existing image.\n",
      "2022-08-17 20:20:07+00:00 Submitting deployment to compute.\n",
      "2022-08-17 20:20:12+00:00 Checking the status of deployment predictstroke6..\n",
      "2022-08-17 20:22:34+00:00 Checking the status of inference endpoint predictstroke6.\n",
      "Succeeded\n",
      "ACI service creation operation finished, operation \"Succeeded\"\n"
     ]
    }
   ],
   "source": [
    "\n",
    "aci_service_name = \"predictstroke6\"\n",
    "#deploy the model as a webservice\n",
    "from azureml.core.webservice import LocalWebservice, Webservice\n",
    "\n",
    "#set deployment configuration\n",
    "\n",
    "aci_service = Model.deploy(ws, aci_service_name, [reg_model], inference_config,aciconfig)\n",
    "aci_service.wait_for_deployment(True)\n"
   ]
  },
  {
   "cell_type": "code",
   "execution_count": 184,
   "metadata": {},
   "outputs": [
    {
     "name": "stdout",
     "output_type": "stream",
     "text": [
      "Service state: Healthy\n",
      "Service scoring URI: http://125cbf0f-8ecb-4f06-9714-6e91735bf099.centralus.azurecontainer.io/score\n",
      "Service Swagger URI: http://125cbf0f-8ecb-4f06-9714-6e91735bf099.centralus.azurecontainer.io/swagger.json\n"
     ]
    }
   ],
   "source": [
    "print('Service state: ' + aci_service.state)\n",
    "print('Service scoring URI: ' + aci_service.scoring_uri)\n",
    "print('Service Swagger URI: ' + aci_service.swagger_uri)\n",
    " "
   ]
  },
  {
   "cell_type": "code",
   "execution_count": 185,
   "metadata": {},
   "outputs": [
    {
     "name": "stdout",
     "output_type": "stream",
     "text": [
      "http://125cbf0f-8ecb-4f06-9714-6e91735bf099.centralus.azurecontainer.io/score\n"
     ]
    }
   ],
   "source": [
    "scoring_uri = aci_service.scoring_uri\n",
    "print(scoring_uri)"
   ]
  },
  {
   "cell_type": "markdown",
   "metadata": {},
   "source": [
    "#Test by sending request and view response below"
   ]
  },
  {
   "cell_type": "code",
   "execution_count": 191,
   "metadata": {},
   "outputs": [
    {
     "name": "stdout",
     "output_type": "stream",
     "text": [
      "prediction is : {\"result\": [0, 0, 0]}\n"
     ]
    }
   ],
   "source": [
    "\n",
    "import requests\n",
    "import json\n",
    "\n",
    " \n",
    "data = {\"data\":\n",
    "        [\n",
    "          {  \n",
    "            \"gender\" : \"Male\",\n",
    "            \"age\"   :  80,\n",
    "            \"hypertension\" : 1,\n",
    "            \"heart_disease\":1,\n",
    "            \"ever_married\" :\"Yes\",\n",
    "            \"work_type\": \"Govt_job\",\n",
    "            \"Residence_type\" : \"Urban\",\n",
    "            \"avg_glucose_level\" : 221.29,\n",
    "            \"bmi\": 36.6,\n",
    "            \"smoking_status\": \"smokes\"\n",
    "          },\n",
    "          {\n",
    "            \"gender\" : \"Male\",\n",
    "            \"age\"   :  90,\n",
    "            \"hypertension\" : 1,\n",
    "            \"heart_disease\": 1,\n",
    "            \"ever_married\"  : \"Yes\",\n",
    "            \"work_type\" : \"Private\",\n",
    "            \"Residence_type\" : \"Urban\",\n",
    "            \"avg_glucose_level\" : 228.69,\n",
    "            \"bmi\" : 40,\n",
    "            \"smoking_status\" : \"smokes\"           \n",
    "         },\n",
    "         {\n",
    "            \"gender\" : \"Male\",\n",
    "            \"age\"   :  84,\n",
    "            \"hypertension\" : 1,\n",
    "            \"heart_disease\": 1,\n",
    "            \"ever_married\"  : \"Yes\",\n",
    "            \"work_type\" : \"Private\",\n",
    "            \"Residence_type\" : \"Urban\",\n",
    "            \"avg_glucose_level\" : 228.69,\n",
    "            \"bmi\" : 40,\n",
    "            \"smoking_status\" : \"smokes\"          \n",
    "         }  \n",
    "      ]\n",
    "    }\n",
    "    \n",
    "# Convert to JSON string\n",
    "input_data = json.dumps(data)\n",
    "with open(\"data.json\", \"w\") as _f:\n",
    "    _f.write(input_data)\n",
    "\n",
    "# Set the content type\n",
    "headers = {'Content-Type': 'application/json'}\n",
    "# If authentication is enabled, set the authorization header\n",
    "#headers['Authorization'] = f'Bearer {key}'\n",
    "\n",
    "# Make the request and display the response\n",
    "resp = requests.post(scoring_uri, input_data, headers=headers)\n",
    "print(\"prediction is :\" , resp.json())"
   ]
  },
  {
   "cell_type": "code",
   "execution_count": null,
   "metadata": {},
   "outputs": [],
   "source": []
  },
  {
   "cell_type": "code",
   "execution_count": 187,
   "metadata": {},
   "outputs": [],
   "source": [
    "#Not deleted the resources, since I have other work on running on it"
   ]
  },
  {
   "cell_type": "markdown",
   "metadata": {},
   "source": [
    "**Submission Checklist**\n",
    "- I have registered the model. \n",
    "- I have deployed the model with the best accuracy as a webservice.\n",
    "- I have tested the webservice by sending a request to the model endpoint.\n",
    "- I have deleted the webservice and shutdown all the computes that I have used.\n",
    "- I have taken a screenshot showing the model endpoint as active.\n",
    "- The project includes a file containing the environment details.\n"
   ]
  },
  {
   "cell_type": "markdown",
   "metadata": {},
   "source": []
  }
 ],
 "metadata": {
  "kernel_info": {
   "name": "python3-azureml"
  },
  "kernelspec": {
   "display_name": "Python 3.8 - AzureML",
   "language": "python",
   "name": "python38-azureml"
  },
  "language_info": {
   "codemirror_mode": {
    "name": "ipython",
    "version": 3
   },
   "file_extension": ".py",
   "mimetype": "text/x-python",
   "name": "python",
   "nbconvert_exporter": "python",
   "pygments_lexer": "ipython3",
   "version": "3.8.5"
  },
  "microsoft": {
   "host": {
    "AzureML": {
     "notebookHasBeenCompleted": true
    }
   }
  },
  "nteract": {
   "version": "nteract-front-end@1.0.0"
  }
 },
 "nbformat": 4,
 "nbformat_minor": 2
}
